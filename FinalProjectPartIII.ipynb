{
 "cells": [
  {
   "cell_type": "markdown",
   "metadata": {},
   "source": [
    "# Multivariate Analysis of Fuel Economy in Petroleum Fueled Cars"
   ]
  },
  {
   "cell_type": "markdown",
   "metadata": {},
   "source": [
    "Caleb Clough\n",
    "\n",
    "CSPB 3022\n",
    "\n",
    "May 3, 2021"
   ]
  },
  {
   "cell_type": "markdown",
   "metadata": {},
   "source": [
    "### What this project is about:\n",
    "\n",
    "This project aims to analyze a multivariate dataset from fueleconomy.gov to predict fuel economy for a given combination of vehicle characteristics, and to determine what characteristics most contribute to improved fuel economy.\n",
    "Although electric/plug-in hybrids are increasing in market share, there is still extensive petroleum (gasoline and diesel) infastructure in the United States, and high demand for petroleum powered vehicles. Given this current (although decreasing) proliferation of purely petroleum-fueled vehicles, understanding how to optimize vehicle design for fuel economy is critical for combatting climate change in the interim. This project aims to approach this task using machine learning regression techniques.\n",
    "    \n",
    "### Problem Type:\n",
    "\n",
    "Regression. Given the continious nature of the fuel economy (MPG) data that this project aims to predict, this project is clearly in the regression camp, although there will be categorical variables that are included in the analysis."
   ]
  },
  {
   "cell_type": "markdown",
   "metadata": {},
   "source": [
    "### Data Source:\n",
    "\n",
    "The EPA's National Vehicle and Fuel Emissions Laboratory in Ann Arbor, Michigan tests new passanger vehicles for fuel economy, and has data for model years 1984-2021. This data is freely available as a .csv to the general public at the following link:\n",
    "\n",
    "https://www.fueleconomy.gov/feg/download.shtml\n",
    "\n",
    "The header names in the raw csv are somewhat non-intuitive, but there is extensive documenation that accompanies the dataset, and defines this column headers at the following link:\n",
    "\n",
    "https://www.fueleconomy.gov/feg/ws/index.shtml#vehicle\n",
    "\n",
    "### Data Description:\n",
    "\n",
    "All Data is taken from the .csv listed above."
   ]
  },
  {
   "cell_type": "markdown",
   "metadata": {},
   "source": [
    "##### Original Data Set:\n",
    "\n",
    "As shown below, the original dataset is quite extensive (27.2 Mb), with over 43000 total data points, and data recorded in over 82 columns. These columns comprise a mix of fuel economy data points, vehicle information, ratings specific to electric vehicles, and extensive cost-of-ownership projections. There is a mix of continous and categorical columns, and extensive NaN values dispersed throughout the data."
   ]
  },
  {
   "cell_type": "code",
   "execution_count": 1,
   "metadata": {},
   "outputs": [
    {
     "name": "stdout",
     "output_type": "stream",
     "text": [
      "<class 'pandas.core.frame.DataFrame'>\n",
      "RangeIndex: 43418 entries, 0 to 43417\n",
      "Data columns (total 83 columns):\n",
      " #   Column           Non-Null Count  Dtype  \n",
      "---  ------           --------------  -----  \n",
      " 0   barrels08        43418 non-null  float64\n",
      " 1   barrelsA08       43418 non-null  float64\n",
      " 2   charge120        43418 non-null  int64  \n",
      " 3   charge240        43418 non-null  float64\n",
      " 4   city08           43418 non-null  int64  \n",
      " 5   city08U          43418 non-null  float64\n",
      " 6   cityA08          43418 non-null  int64  \n",
      " 7   cityA08U         43418 non-null  float64\n",
      " 8   cityCD           43418 non-null  float64\n",
      " 9   cityE            43418 non-null  float64\n",
      " 10  cityUF           43418 non-null  float64\n",
      " 11  co2              43418 non-null  int64  \n",
      " 12  co2A             43418 non-null  int64  \n",
      " 13  co2TailpipeAGpm  43418 non-null  float64\n",
      " 14  co2TailpipeGpm   43418 non-null  float64\n",
      " 15  comb08           43418 non-null  int64  \n",
      " 16  comb08U          43418 non-null  float64\n",
      " 17  combA08          43418 non-null  int64  \n",
      " 18  combA08U         43418 non-null  float64\n",
      " 19  combE            43418 non-null  float64\n",
      " 20  combinedCD       43418 non-null  float64\n",
      " 21  combinedUF       43418 non-null  float64\n",
      " 22  cylinders        43139 non-null  float64\n",
      " 23  displ            43141 non-null  float64\n",
      " 24  drive            42232 non-null  object \n",
      " 25  engId            43418 non-null  int64  \n",
      " 26  eng_dscr         26887 non-null  object \n",
      " 27  feScore          43418 non-null  int64  \n",
      " 28  fuelCost08       43418 non-null  int64  \n",
      " 29  fuelCostA08      43418 non-null  int64  \n",
      " 30  fuelType         43418 non-null  object \n",
      " 31  fuelType1        43418 non-null  object \n",
      " 32  ghgScore         43418 non-null  int64  \n",
      " 33  ghgScoreA        43418 non-null  int64  \n",
      " 34  highway08        43418 non-null  int64  \n",
      " 35  highway08U       43418 non-null  float64\n",
      " 36  highwayA08       43418 non-null  int64  \n",
      " 37  highwayA08U      43418 non-null  float64\n",
      " 38  highwayCD        43418 non-null  float64\n",
      " 39  highwayE         43418 non-null  float64\n",
      " 40  highwayUF        43418 non-null  float64\n",
      " 41  hlv              43418 non-null  int64  \n",
      " 42  hpv              43418 non-null  int64  \n",
      " 43  id               43418 non-null  int64  \n",
      " 44  lv2              43418 non-null  int64  \n",
      " 45  lv4              43418 non-null  int64  \n",
      " 46  make             43418 non-null  object \n",
      " 47  model            43418 non-null  object \n",
      " 48  mpgData          43400 non-null  object \n",
      " 49  phevBlended      43418 non-null  bool   \n",
      " 50  pv2              43418 non-null  int64  \n",
      " 51  pv4              43418 non-null  int64  \n",
      " 52  range            43418 non-null  int64  \n",
      " 53  rangeCity        43418 non-null  float64\n",
      " 54  rangeCityA       43418 non-null  float64\n",
      " 55  rangeHwy         43418 non-null  float64\n",
      " 56  rangeHwyA        43418 non-null  float64\n",
      " 57  trany            43407 non-null  object \n",
      " 58  UCity            43418 non-null  float64\n",
      " 59  UCityA           43418 non-null  float64\n",
      " 60  UHighway         43418 non-null  float64\n",
      " 61  UHighwayA        43418 non-null  float64\n",
      " 62  VClass           43418 non-null  object \n",
      " 63  year             43418 non-null  int64  \n",
      " 64  youSaveSpend     43418 non-null  int64  \n",
      " 65  guzzler          2558 non-null   object \n",
      " 66  trans_dscr       15044 non-null  object \n",
      " 67  tCharger         8143 non-null   object \n",
      " 68  sCharger         916 non-null    object \n",
      " 69  atvType          3987 non-null   object \n",
      " 70  fuelType2        1731 non-null   object \n",
      " 71  rangeA           1726 non-null   object \n",
      " 72  evMotor          1221 non-null   object \n",
      " 73  mfrCode          12610 non-null  object \n",
      " 74  c240Dscr         114 non-null    object \n",
      " 75  charge240b       43418 non-null  float64\n",
      " 76  c240bDscr        108 non-null    object \n",
      " 77  createdOn        43418 non-null  object \n",
      " 78  modifiedOn       43418 non-null  object \n",
      " 79  startStop        11729 non-null  object \n",
      " 80  phevCity         43418 non-null  int64  \n",
      " 81  phevHwy          43418 non-null  int64  \n",
      " 82  phevComb         43418 non-null  int64  \n",
      "dtypes: bool(1), float64(31), int64(28), object(23)\n",
      "memory usage: 27.2+ MB\n"
     ]
    },
    {
     "name": "stderr",
     "output_type": "stream",
     "text": [
      "/opt/conda/lib/python3.8/site-packages/IPython/core/interactiveshell.py:3146: DtypeWarning: Columns (70,71,72,73,74,76,79) have mixed types.Specify dtype option on import or set low_memory=False.\n",
      "  has_raised = await self.run_ast_nodes(code_ast.body, cell_name,\n"
     ]
    }
   ],
   "source": [
    "%matplotlib inline\n",
    "import numpy as np\n",
    "import pandas as pd\n",
    "import matplotlib.pyplot as plt\n",
    "import statsmodels.formula.api as smf\n",
    "import seaborn as sns\n",
    "sns.set()\n",
    "\n",
    "#Import Original Dataset\n",
    "originaldataset = pd.read_csv('original_vehicles.csv')\n",
    "originaldataset.info();"
   ]
  },
  {
   "cell_type": "markdown",
   "metadata": {},
   "source": [
    "##### Cleaned Data Set:\n",
    "    \n",
    "As will be described in a following section, the magnitude of this data was too large (and incomplete) to be useful. The following is a description of the cleaned data set:"
   ]
  },
  {
   "cell_type": "code",
   "execution_count": 2,
   "metadata": {},
   "outputs": [
    {
     "name": "stdout",
     "output_type": "stream",
     "text": [
      "<class 'pandas.core.frame.DataFrame'>\n",
      "RangeIndex: 4567 entries, 0 to 4566\n",
      "Data columns (total 21 columns):\n",
      " #   Column                 Non-Null Count  Dtype  \n",
      "---  ------                 --------------  -----  \n",
      " 0   id                     4567 non-null   int64  \n",
      " 1   city08U                4567 non-null   float64\n",
      " 2   co2TailpipeGpm         4567 non-null   int64  \n",
      " 3   comb08U                4567 non-null   float64\n",
      " 4   cylinders              4567 non-null   int64  \n",
      " 5   displ                  4567 non-null   float64\n",
      " 6   drive                  4567 non-null   int64  \n",
      " 7   fuelCost08             4567 non-null   int64  \n",
      " 8   fuelType               4567 non-null   object \n",
      " 9   ghgScore               4567 non-null   int64  \n",
      " 10  highway08U             4567 non-null   float64\n",
      " 11  make                   4567 non-null   object \n",
      " 12  model                  4567 non-null   object \n",
      " 13  automatictransmission  4567 non-null   int64  \n",
      " 14  VClass                 4567 non-null   object \n",
      " 15  year                   4567 non-null   int64  \n",
      " 16  tCharger               4567 non-null   int64  \n",
      " 17  sCharger               4567 non-null   int64  \n",
      " 18  atvType                4567 non-null   object \n",
      " 19  mfrCode                4567 non-null   object \n",
      " 20  startStop              4567 non-null   int64  \n",
      "dtypes: float64(4), int64(11), object(6)\n",
      "memory usage: 749.4+ KB\n"
     ]
    }
   ],
   "source": [
    "#Import Cleaned Dataset\n",
    "cleaneddataset = pd.read_csv('cleaned_vehicles.csv')\n",
    "cleaneddataset.info();"
   ]
  },
  {
   "cell_type": "markdown",
   "metadata": {},
   "source": [
    "This reduced dataset has roughly 4600 data points, and 21 columns of data. City08U, comb08U, highway08U are columns representing fuel economy values (in miles per gallon). Cylinders, displ, drive, tCharger, sCharger, atvType, and startStop are columns represnting values describing the engine. Id, make, model, VClass, year, and mfrCode represent values describing the vehicle as a whole. transmission describes the transmission type. c02TailpipeGpm and ghgScore describe metrics pertaining to environmental impact. In total there are 5 continous variables (the 3 fuel economies, co2TailpipeGpm, and fuelCost08) and the rest are categorical (despite being listed as otherwise in the pandas data summary). Most of the cateogorical variables are ordinal, but there are a few categorical variables that are not: specifically make, model, Vclass, mfrcode, and id."
   ]
  },
  {
   "cell_type": "markdown",
   "metadata": {},
   "source": [
    "### Data Cleaning:"
   ]
  },
  {
   "cell_type": "markdown",
   "metadata": {},
   "source": [
    "As mentioned previously, the original dataset from fueleconomy.gov had a few problems that required cleaning the dataset in order to have a suitable dataset to build a model from.\n",
    "\n",
    "1. The timespan of data:\n",
    "\n",
    "    The original dataset gives models from 1984 onwards. In addition to being a large dataset, analyzing this data would comprise a time-series, and is outside the scope of this course. As such, I simply chose the 5 most recent model years (assuming relatively small growth in petroluem-fueled engine technology over these years). All other data points were deleted.\n",
    "\n",
    "2. The inclusion of hybrids/EVs:\n",
    "\n",
    "    The original dataset included datapoints for hybrid and electric vehicles, as well as columns pertaining specifically to metrics unique to those two technologies. As the scope of this project is to analyze purely petroleum fueled vehicles, all related data points and columns were dropped from the dataset.\n",
    "\n",
    "3. Rounded and incomplete data:\n",
    "\n",
    "    The original dataset had rounded columns for the fuel economies. Given that this analysis will treat fuel economies as continous variables, these rounded columns do not serve any purpose (and would actually reduce the accuracy of the data). They were dropped. As well, there were a few columns that had very sparse data that was unable to be easily filled in. These were dropped.\n",
    "\n",
    "4. Columns with NaNs:\n",
    "\n",
    "    There were a few columns (tCharger, sCharger, and atvType) that while sparsely populated, were explicitly mentioned as having blanks in areas where the features they represent were not present in the vehicle. As such, I filled in each blank (NaN) with a \"N\" to complete the data.\n",
    "    \n",
    "5. Converting ordinal variables (qualitative predictors) to integers such that they are suitable for regression:\n",
    "\n",
    "    There are a few columns that have ordinal data that I converted to integers such that they can be used in the regression. For instance I converted the transmission column to 1 for automatic transmissions and 0 for manuals.\n",
    "    \n",
    "6. Transformation of drivetrain type to wheels driven:\n",
    "\n",
    "    This transformation was done such that the column for drivetrain becomes a numeric value suitable for regression.\n",
    "\n",
    "After the cleaning was complete, the abridged dataset now has a manageable amount of datapoints, represents a small window of time, and has complete data in all columns. A few categorical variables were kept for the EDA in case needed, including manufacturer and model, although they will likely not be suitable for the regression due to the high number of values that they can take."
   ]
  },
  {
   "cell_type": "markdown",
   "metadata": {},
   "source": [
    "### EDA:\n",
    "\n",
    "To begin, I predicted from the descriptions that Comb08U, representing combined city/highway fuel economy, would be the best target to train for to pursue the goal of this analysis--to find what factors affect fuel economy--but it first needs an EDA to confirm it truly is suitable.\n",
    "\n",
    "I first wanted to take a look at the values of comb08U however to ensure that they data is relatively continous, and not skewed in any extreme ways I need to account for. A histogram is a good EDA tool to check this."
   ]
  },
  {
   "cell_type": "code",
   "execution_count": 3,
   "metadata": {},
   "outputs": [
    {
     "data": {
      "image/png": "[encoded data removed]",
      "text/plain": [
       "<Figure size 432x288 with 1 Axes>"
      ]
     },
     "metadata": {},
     "output_type": "display_data"
    }
   ],
   "source": [
    "#Plot histogram of combined fuel economy\n",
    "plt.hist(cleaneddataset.comb08U, density = True)\n",
    "plt.ylabel('Density')\n",
    "plt.xlabel('Combined Fuel Economy (MPG)');"
   ]
  },
  {
   "cell_type": "markdown",
   "metadata": {},
   "source": [
    "##### Analysis:\n",
    "As shown in the histogram, the data in this column appears to be suitable to be a regression target, with the data points showing a normal looking distribution centered around 22 MPG. The data does appear to be skewed somewhat right of a true normal distribution, however there appears to be ample data to train, with no notable extremes present at first glance.\n",
    "\n",
    "To confirm that there are no outlying data points however, and to get a sense of the overall distribution, I then looked at a boxplot of the data:"
   ]
  },
  {
   "cell_type": "code",
   "execution_count": 4,
   "metadata": {},
   "outputs": [
    {
     "data": {
      "image/png": "[encoded data removed]",
      "text/plain": [
       "<Figure size 432x288 with 1 Axes>"
      ]
     },
     "metadata": {},
     "output_type": "display_data"
    }
   ],
   "source": [
    "#Plot boxplot of combined fuel economy\n",
    "plt.boxplot(cleaneddataset.comb08U);\n",
    "plt.title('Combined Fuel Economy (MPG) Boxplot')\n",
    "plt.ylabel('Combined Fuel Economy (MPG)');"
   ]
  },
  {
   "cell_type": "markdown",
   "metadata": {},
   "source": [
    "##### Analysis:\n",
    "This boxplot shows that, as predicted above, the median is around 22 MPG, with a relatively even IQR of 19 to 26. The boxplot does identify a few outlying values, but upon second glance, and in correlation with the histogram above, they appear to be valid data points despite being marked as outliers, and will be kept.\n",
    "\n",
    "Next, I want to check to be sure that Comb08U is truly the centered fuel economy value, representing the \"average\" performance of a vehicle as compared to the other fuel economy values. In order to find this, a side by side boxplot is a good tool:"
   ]
  },
  {
   "cell_type": "code",
   "execution_count": 5,
   "metadata": {},
   "outputs": [
    {
     "data": {
      "image/png": "[encoded data removed]",
      "text/plain": [
       "<Figure size 432x288 with 1 Axes>"
      ]
     },
     "metadata": {},
     "output_type": "display_data"
    }
   ],
   "source": [
    "#Plot boxplots of all fuel economy\n",
    "plt.boxplot(cleaneddataset[['comb08U','city08U','highway08U']]);\n",
    "plt.xticks([1,2,3],['comb','city','highway']);"
   ]
  },
  {
   "cell_type": "markdown",
   "metadata": {},
   "source": [
    "##### Analysis: \n",
    "As predicted, the Comb08U median value is inbetween that of City08U and Highway08U as shown in the boxplot, so this does appear to be the \"average\" performance, as desired.\n",
    "\n",
    "With this target confirmed, I wanted to see what values seem to be highly correlated with city08U values. A correlation matrix is a good tool for this."
   ]
  },
  {
   "cell_type": "code",
   "execution_count": 6,
   "metadata": {},
   "outputs": [
    {
     "name": "stdout",
     "output_type": "stream",
     "text": [
      "                             id   city08U  co2TailpipeGpm   comb08U  \\\n",
      "id                     1.000000 -0.025124        0.058359 -0.041317   \n",
      "city08U               -0.025124  1.000000       -0.943103  0.991904   \n",
      "co2TailpipeGpm         0.058359 -0.943103        1.000000 -0.952829   \n",
      "comb08U               -0.041317  0.991904       -0.952829  1.000000   \n",
      "cylinders              0.026542 -0.797778        0.842832 -0.783192   \n",
      "displ                  0.027437 -0.826373        0.856107 -0.812274   \n",
      "drive                  0.039351 -0.247397        0.236696 -0.267290   \n",
      "fuelCost08             0.050159 -0.891413        0.925516 -0.889329   \n",
      "ghgScore              -0.050958  0.962064       -0.952851  0.970672   \n",
      "highway08U            -0.069329  0.940264       -0.931560  0.974352   \n",
      "automatictransmission  0.068945 -0.115073        0.128001 -0.131598   \n",
      "year                   0.959585  0.006022        0.017446 -0.007025   \n",
      "tCharger               0.048328  0.096964       -0.135315  0.101037   \n",
      "sCharger              -0.048798 -0.172824        0.167176 -0.163539   \n",
      "startStop              0.073093 -0.094947        0.029174 -0.096537   \n",
      "\n",
      "                       cylinders     displ     drive  fuelCost08  ghgScore  \\\n",
      "id                      0.026542  0.027437  0.039351    0.050159 -0.050958   \n",
      "city08U                -0.797778 -0.826373 -0.247397   -0.891413  0.962064   \n",
      "co2TailpipeGpm          0.842832  0.856107  0.236696    0.925516 -0.952851   \n",
      "comb08U                -0.783192 -0.812274 -0.267290   -0.889329  0.970672   \n",
      "cylinders               1.000000  0.921993  0.117545    0.819445 -0.785117   \n",
      "displ                   0.921993  1.000000  0.106891    0.789450 -0.812144   \n",
      "drive                   0.117545  0.106891  1.000000    0.225779 -0.257842   \n",
      "fuelCost08              0.819445  0.789450  0.225779    1.000000 -0.882810   \n",
      "ghgScore               -0.785117 -0.812144 -0.257842   -0.882810  1.000000   \n",
      "highway08U             -0.724793 -0.755054 -0.297347   -0.847394  0.946852   \n",
      "automatictransmission   0.145600  0.140713  0.188292    0.086187 -0.130656   \n",
      "year                   -0.003328  0.006435  0.038336    0.020316 -0.014980   \n",
      "tCharger               -0.175001 -0.360106  0.082422    0.032619  0.099448   \n",
      "sCharger                0.125187  0.156953  0.054938    0.226747 -0.165388   \n",
      "startStop               0.022576 -0.083493  0.214303    0.147346 -0.076670   \n",
      "\n",
      "                       highway08U  automatictransmission      year  tCharger  \\\n",
      "id                      -0.069329               0.068945  0.959585  0.048328   \n",
      "city08U                  0.940264              -0.115073  0.006022  0.096964   \n",
      "co2TailpipeGpm          -0.931560               0.128001  0.017446 -0.135315   \n",
      "comb08U                  0.974352              -0.131598 -0.007025  0.101037   \n",
      "cylinders               -0.724793               0.145600 -0.003328 -0.175001   \n",
      "displ                   -0.755054               0.140713  0.006435 -0.360106   \n",
      "drive                   -0.297347               0.188292  0.038336  0.082422   \n",
      "fuelCost08              -0.847394               0.086187  0.020316  0.032619   \n",
      "ghgScore                 0.946852              -0.130656 -0.014980  0.099448   \n",
      "highway08U               1.000000              -0.157943 -0.030477  0.107974   \n",
      "automatictransmission   -0.157943               1.000000  0.064577  0.006019   \n",
      "year                    -0.030477               0.064577  1.000000  0.036997   \n",
      "tCharger                 0.107974               0.006019  0.036997  1.000000   \n",
      "sCharger                -0.138060              -0.012934 -0.031305 -0.184876   \n",
      "startStop               -0.097647               0.135627  0.088923  0.451415   \n",
      "\n",
      "                       sCharger  startStop  \n",
      "id                    -0.048798   0.073093  \n",
      "city08U               -0.172824  -0.094947  \n",
      "co2TailpipeGpm         0.167176   0.029174  \n",
      "comb08U               -0.163539  -0.096537  \n",
      "cylinders              0.125187   0.022576  \n",
      "displ                  0.156953  -0.083493  \n",
      "drive                  0.054938   0.214303  \n",
      "fuelCost08             0.226747   0.147346  \n",
      "ghgScore              -0.165388  -0.076670  \n",
      "highway08U            -0.138060  -0.097647  \n",
      "automatictransmission -0.012934   0.135627  \n",
      "year                  -0.031305   0.088923  \n",
      "tCharger              -0.184876   0.451415  \n",
      "sCharger               1.000000   0.085586  \n",
      "startStop              0.085586   1.000000  \n"
     ]
    }
   ],
   "source": [
    "#Display correlation matrix\n",
    "print(cleaneddataset.corr())"
   ]
  },
  {
   "cell_type": "markdown",
   "metadata": {},
   "source": [
    "##### Analysis:\n",
    "    \n",
    "It appears the highway and city fuel economy values are extremely highly correlated to the comb08U value, which makes sense given that they are likely the constituents of the equation to calculate combined fuel economy.\n",
    "\n",
    "As well, the c02TailpipeGPM, ghgScore, and fuelcost08 are all extremely correlated to the comb08U value, likely being direct functions of the fuel economy themselves.\n",
    "\n",
    "Id and Year appear highly uncorrelated, which also makes sense, given that the year range has been purposefully truncated to avoid time-series effects, and ID is arbitrary.\n",
    "\n",
    "Everything else is correlated to a varying degree."
   ]
  },
  {
   "cell_type": "markdown",
   "metadata": {},
   "source": [
    "##### Conclusion/Discussion:  \n",
    "\n",
    "As mentioned above it appears that comb08U is a good target to achieve the goal of this analysis, as it is not widely skewed, has ample data points, and is the \"average\" fuel economy value in the dataset.\n",
    "\n",
    "In terms of parameter selection, in order to avoid simply predicting based on colinear variables, the other fuel economy values as well as 02TailpipeGPM, ghgScore, and fuelcost08 are not good candidates, and ID and year are almost wholly uncorrelated and thus not good candidates. StartStop is extremely weakly negatively correlated, and does not appear to be a good candidate.\n",
    "\n",
    "Out of the remainder, the top parameters by correlation coefficient (absolute value) in order are displ, cylinders, drive, sCharger, automatictransmission, and tCharger. Out of these 6 parameters, seems like these all could possibly input parameters to predict the target value.\n",
    "\n",
    "As such, the parameters that won't be used are going to be dropped from the dataset, leaving only the target and those 6 possible parameters."
   ]
  },
  {
   "cell_type": "code",
   "execution_count": 7,
   "metadata": {},
   "outputs": [],
   "source": [
    "#Remove columns that will not be used.\n",
    "cleaneddataset = cleaneddataset.drop(columns=['city08U','co2TailpipeGpm','fuelCost08','ghgScore','highway08U','year','startStop'])"
   ]
  },
  {
   "cell_type": "markdown",
   "metadata": {},
   "source": [
    "### Plan For Model Approach:"
   ]
  },
  {
   "cell_type": "markdown",
   "metadata": {},
   "source": [
    "This data and the goal for this model clearly call for a multi-linear regression. The reason why this is a good choice is simply because there are many possible, non-colinear parameters (so a simple linear regression would not work), and given the magnitude of the number of parameters to train on, the simplicty of a multi-linear regression as opposed to quadratic or other regressions may simplify the training process. However, this will need to be explored more fully in future parts and possibly expanded upon if the model requires a better fit.\n",
    "\n",
    "The multilinear model may have difficulties with overfitting if all 6 parameters are used, however, there is also evidence that each may meaningfully contribute to an accurate prediction. During the process of model fitting, this will need to be considered to prevent overfitting, while maximizing model usefulness."
   ]
  },
  {
   "cell_type": "markdown",
   "metadata": {},
   "source": [
    "### Preparation of Training and Test Data"
   ]
  },
  {
   "cell_type": "markdown",
   "metadata": {},
   "source": [
    "In order to prevent issues with overfitting, we will take a cross validation approach throughout our model selection process. In order to do this, I will take two, equally sized samples from our data, and use one for training and the other for testing. "
   ]
  },
  {
   "cell_type": "code",
   "execution_count": 8,
   "metadata": {},
   "outputs": [
    {
     "name": "stdout",
     "output_type": "stream",
     "text": [
      "                 id      comb08U    cylinders        displ        drive  \\\n",
      "count   2283.000000  2283.000000  2283.000000  2283.000000  2283.000000   \n",
      "mean   41108.936049    22.787837     5.573368     3.093517     2.907578   \n",
      "std     1515.098684     4.947305     1.889876     1.329900     0.995938   \n",
      "min    38552.000000     9.950200     3.000000     1.000000     2.000000   \n",
      "25%    39779.000000    19.062000     4.000000     2.000000     2.000000   \n",
      "50%    41068.000000    22.472000     6.000000     3.000000     2.000000   \n",
      "75%    42395.000000    25.992800     6.000000     3.600000     4.000000   \n",
      "max    43817.000000    39.379900    16.000000     8.000000     4.000000   \n",
      "\n",
      "       automatictransmission     tCharger     sCharger  \n",
      "count            2283.000000  2283.000000  2283.000000  \n",
      "mean                0.883487     0.560666     0.044678  \n",
      "std                 0.320910     0.496415     0.206641  \n",
      "min                 0.000000     0.000000     0.000000  \n",
      "25%                 1.000000     0.000000     0.000000  \n",
      "50%                 1.000000     1.000000     0.000000  \n",
      "75%                 1.000000     1.000000     0.000000  \n",
      "max                 1.000000     1.000000     1.000000  \n",
      "                 id      comb08U    cylinders        displ        drive  \\\n",
      "count   2283.000000  2283.000000  2283.000000  2283.000000  2283.000000   \n",
      "mean   41177.987297    22.695189     5.619360     3.135129     2.904950   \n",
      "std     1496.598678     4.894530     1.896099     1.349035     0.995691   \n",
      "min    38551.000000     9.950200     3.000000     1.000000     2.000000   \n",
      "25%    39913.000000    19.000000     4.000000     2.000000     2.000000   \n",
      "50%    41170.000000    22.353100     6.000000     3.000000     2.000000   \n",
      "75%    42458.500000    25.897150     6.000000     3.700000     4.000000   \n",
      "max    43816.000000    39.205200    16.000000     8.000000     4.000000   \n",
      "\n",
      "       automatictransmission     tCharger     sCharger  \n",
      "count             2283.00000  2283.000000  2283.000000  \n",
      "mean                 0.88042     0.552781     0.046868  \n",
      "std                  0.32454     0.497315     0.211403  \n",
      "min                  0.00000     0.000000     0.000000  \n",
      "25%                  1.00000     0.000000     0.000000  \n",
      "50%                  1.00000     1.000000     0.000000  \n",
      "75%                  1.00000     1.000000     0.000000  \n",
      "max                  1.00000     1.000000     1.000000  \n"
     ]
    }
   ],
   "source": [
    "#Find length of data\n",
    "datasize = len(cleaneddataset)//2 \n",
    "\n",
    "#Pull samples for the training and test datasets.\n",
    "datatraining = cleaneddataset.sample(replace = False, n = datasize)\n",
    "datatest = cleaneddataset.sample(replace = False, n = datasize)\n",
    "\n",
    "#Display summaries of both datasets\n",
    "print(datatraining.describe())\n",
    "print(datatest.describe())"
   ]
  },
  {
   "cell_type": "markdown",
   "metadata": {},
   "source": [
    "### Adjusted R^2 Function and Allowed Factors"
   ]
  },
  {
   "cell_type": "markdown",
   "metadata": {},
   "source": [
    "The below code defines the list of possible parameters, as well as a function to calculate adj r^2 given a model on test data-- for cross-validation purposes.\n",
    "\n",
    "Throughout this project, adjusted R^2 will be treated as the main evaluation metric to determine model quality. The reason this was chosen is because of easy interpretability/comparability between runs, and a general familarity of an R^2 metric among people who have done regressions in the past. Going further, adjusted R^2 penalizes overly complex models and helps avoid overfitting, which it was it was chosen over non-adjusted R^2."
   ]
  },
  {
   "cell_type": "code",
   "execution_count": 9,
   "metadata": {},
   "outputs": [],
   "source": [
    "#Create list of allowed factors\n",
    "allowed_factors = ['cylinders','displ','drive','automatictransmission','tCharger','sCharger']\n",
    "\n",
    "#Take model, data, and number of parameters, and return adj r^2 according to equation defined in class.\n",
    "def testadjr2(model,testdata,p):\n",
    "    y_bar = (np.average(testdata.comb08U))\n",
    "    y_i = testdata.comb08U\n",
    "    y_i_hat = model.predict(testdata)\n",
    "    n = len(testdata.comb08U)\n",
    "    \n",
    "    r2 = 1-(np.sum((y_i-y_i_hat)**2)/np.sum((y_i-y_bar)**2))\n",
    "    adjr2 = 1 - ((1-r2)*(n-1)/(n-p-1))\n",
    "    \n",
    "    return adjr2"
   ]
  },
  {
   "cell_type": "code",
   "execution_count": 10,
   "metadata": {},
   "outputs": [
    {
     "name": "stdout",
     "output_type": "stream",
     "text": [
      "['cylinders', 'displ', 'drive', 'automatictransmission', 'tCharger', 'sCharger']\n"
     ]
    }
   ],
   "source": [
    "print(allowed_factors)"
   ]
  },
  {
   "cell_type": "markdown",
   "metadata": {},
   "source": [
    "### ML Model 1: Linear Regression"
   ]
  },
  {
   "cell_type": "markdown",
   "metadata": {},
   "source": [
    "To begin, we will iterate over all of the allowed factors and find the best simple linear regression:"
   ]
  },
  {
   "cell_type": "code",
   "execution_count": 11,
   "metadata": {},
   "outputs": [
    {
     "name": "stdout",
     "output_type": "stream",
     "text": [
      "Best model adj R^2:  0.6614517668970226\n",
      "Best model parameters:  displ\n",
      "Test data adj R^2:  0.661210505259506\n"
     ]
    }
   ],
   "source": [
    "#Initial output lists\n",
    "adjrsquareds = []\n",
    "testadjrsquareds = []\n",
    "bestfactor, bestfactorname = 0, 'empty'\n",
    "\n",
    "#Loop through each factor, remembering the best model (based on adj R^2)\n",
    "for factor in allowed_factors:\n",
    "    factorformula = 'comb08U ~ ' + factor\n",
    "    f1 = smf.ols(formula=factorformula,data = datatraining).fit()\n",
    "    if f1.rsquared_adj > bestfactor:\n",
    "        bestfactor, bestfactorname = f1.rsquared_adj, factor\n",
    "        bestmodel = f1\n",
    "\n",
    "#Remove chosen \"best factor\" from list of factors and test against test dataset. Record results.\n",
    "allowed_factors.remove(bestfactorname)\n",
    "adjrsquareds.append(bestfactor)\n",
    "testr2 = testadjr2(bestmodel,datatest,1)\n",
    "testadjrsquareds.append(testr2)\n",
    "\n",
    "print('Best model adj R^2: ',bestfactor)\n",
    "print('Best model parameters: ',bestfactorname)\n",
    "print('Test data adj R^2: ',testr2)"
   ]
  },
  {
   "cell_type": "markdown",
   "metadata": {},
   "source": [
    "**Analysis:** This was simply a first attempt at creating a viable ML model, and it performs moderately well with the cross validation approach. Clearly there is more that can be done to increase the performance of the model, so the next step will be to look at a multi-linear regression technique"
   ]
  },
  {
   "cell_type": "markdown",
   "metadata": {},
   "source": [
    "### ML Model 2: Multi-Linear Regression Using Forward Stepwise Selection"
   ]
  },
  {
   "cell_type": "markdown",
   "metadata": {},
   "source": [
    "We have up to 6 parameters to choose from, so next we will find the best model based on adj R^2 for each amount of parameters."
   ]
  },
  {
   "cell_type": "code",
   "execution_count": 12,
   "metadata": {},
   "outputs": [
    {
     "name": "stdout",
     "output_type": "stream",
     "text": [
      "Number of factors:  2\n",
      "Best model adj R^2:  0.7097430444924719\n",
      "Best model parameters:  displ + tCharger\n",
      "Test data adj R^2:  0.7011066216286719\n",
      "~~~~~~~~~~~~~~~~~~~~~\n",
      "Number of factors:  3\n",
      "Best model adj R^2:  0.7334460834570748\n",
      "Best model parameters:  displ + tCharger + drive\n",
      "Test data adj R^2:  0.726726606512393\n",
      "~~~~~~~~~~~~~~~~~~~~~\n",
      "Number of factors:  4\n",
      "Best model adj R^2:  0.7362435301980592\n",
      "Best model parameters:  displ + tCharger + drive + sCharger\n",
      "Test data adj R^2:  0.7315526724747088\n",
      "~~~~~~~~~~~~~~~~~~~~~\n",
      "Number of factors:  5\n",
      "Best model adj R^2:  0.7363011537078088\n",
      "Best model parameters:  displ + tCharger + drive + sCharger + automatictransmission\n",
      "Test data adj R^2:  0.7318940372310166\n",
      "~~~~~~~~~~~~~~~~~~~~~\n",
      "Number of factors:  6\n",
      "Best model adj R^2:  0.7362154072762572\n",
      "Best model parameters:  displ + tCharger + drive + sCharger + automatictransmission + cylinders\n",
      "Test data adj R^2:  0.7318082622228589\n",
      "~~~~~~~~~~~~~~~~~~~~~\n"
     ]
    }
   ],
   "source": [
    "#Loop through, each time adding a new parameter based on the forward stepwise selection algorithm\n",
    "for i in [2,3,4,5,6]:\n",
    "    bestfactornameprevious = bestfactorname + \" + \"\n",
    "    bestfactor, bestfactorname = 0, 'empty'\n",
    "    \n",
    "    #Loop through each factor, remembering the best model (based on adj R^2)\n",
    "    for factor in allowed_factors:\n",
    "        factorformula = 'comb08U ~ ' + bestfactornameprevious + factor\n",
    "        f1 = smf.ols(formula=factorformula,data = datatraining).fit()\n",
    "        if f1.rsquared_adj > bestfactor:\n",
    "            bestfactor, bestfactorname = f1.rsquared_adj, factor\n",
    "            bestmodel = f1\n",
    "    \n",
    "    #Remove chosen \"best factor\" from list of factors and test against test dataset. Record results.\n",
    "    allowed_factors.remove(bestfactorname)\n",
    "    bestfactorname = bestfactornameprevious + bestfactorname\n",
    "    adjrsquareds.append(bestfactor)\n",
    "    testr2 = testadjr2(bestmodel,datatest,i)\n",
    "    testadjrsquareds.append(testr2)\n",
    "\n",
    "    print('Number of factors: ', i)\n",
    "    print('Best model adj R^2: ',bestfactor)\n",
    "    print('Best model parameters: ',bestfactorname)\n",
    "    print('Test data adj R^2: ',testr2)\n",
    "    print('~~~~~~~~~~~~~~~~~~~~~')"
   ]
  },
  {
   "cell_type": "markdown",
   "metadata": {},
   "source": [
    "**Analysis:** As expected, the overall R^2 increases as parameters are added. However, the adjusted R^2 is maximized for p = 5. See graph below to illustrate this. The adjusted R^2 improves substantially with these additional parameters.\n"
   ]
  },
  {
   "cell_type": "code",
   "execution_count": 44,
   "metadata": {},
   "outputs": [
    {
     "name": "stdout",
     "output_type": "stream",
     "text": [
      "Training:  [0.6614517668970226, 0.7097430444924719, 0.7334460834570748, 0.7362435301980592, 0.7363011537078088, 0.7362154072762572]\n",
      "Test:  [0.661210505259506, 0.7011066216286719, 0.726726606512393, 0.7315526724747088, 0.7318940372310166, 0.7318082622228589]\n"
     ]
    },
    {
     "data": {
      "image/png": "[encoded data removed]",
      "text/plain": [
       "<Figure size 432x288 with 1 Axes>"
      ]
     },
     "metadata": {},
     "output_type": "display_data"
    }
   ],
   "source": [
    "#Display test and training results\n",
    "print(\"Training: \",adjrsquareds)\n",
    "print(\"Test: \",testadjrsquareds)\n",
    "xticks = np.linspace(1,6,6)\n",
    "\n",
    "#Create visualization of results\n",
    "plt.plot(xticks,adjrsquareds)\n",
    "plt.plot(xticks,testadjrsquareds,'ro')\n",
    "plt.xlabel('Parameters')\n",
    "plt.ylabel('Adj R^2');"
   ]
  },
  {
   "cell_type": "markdown",
   "metadata": {},
   "source": [
    "Next I will check the t-statistics and p-values on all of the parameters to see if all are statistically significant."
   ]
  },
  {
   "cell_type": "code",
   "execution_count": 43,
   "metadata": {},
   "outputs": [
    {
     "data": {
      "text/html": [
       "<table class=\"simpletable\">\n",
       "<caption>OLS Regression Results</caption>\n",
       "<tr>\n",
       "  <th>Dep. Variable:</th>         <td>comb08U</td>     <th>  R-squared:         </th> <td>   0.737</td> \n",
       "</tr>\n",
       "<tr>\n",
       "  <th>Model:</th>                   <td>OLS</td>       <th>  Adj. R-squared:    </th> <td>   0.736</td> \n",
       "</tr>\n",
       "<tr>\n",
       "  <th>Method:</th>             <td>Least Squares</td>  <th>  F-statistic:       </th> <td>   1062.</td> \n",
       "</tr>\n",
       "<tr>\n",
       "  <th>Date:</th>             <td>Tue, 04 May 2021</td> <th>  Prob (F-statistic):</th>  <td>  0.00</td>  \n",
       "</tr>\n",
       "<tr>\n",
       "  <th>Time:</th>                 <td>02:14:48</td>     <th>  Log-Likelihood:    </th> <td> -5364.9</td> \n",
       "</tr>\n",
       "<tr>\n",
       "  <th>No. Observations:</th>      <td>  2283</td>      <th>  AIC:               </th> <td>1.074e+04</td>\n",
       "</tr>\n",
       "<tr>\n",
       "  <th>Df Residuals:</th>          <td>  2276</td>      <th>  BIC:               </th> <td>1.078e+04</td>\n",
       "</tr>\n",
       "<tr>\n",
       "  <th>Df Model:</th>              <td>     6</td>      <th>                     </th>     <td> </td>    \n",
       "</tr>\n",
       "<tr>\n",
       "  <th>Covariance Type:</th>      <td>nonrobust</td>    <th>                     </th>     <td> </td>    \n",
       "</tr>\n",
       "</table>\n",
       "<table class=\"simpletable\">\n",
       "<tr>\n",
       "            <td></td>               <th>coef</th>     <th>std err</th>      <th>t</th>      <th>P>|t|</th>  <th>[0.025</th>    <th>0.975]</th>  \n",
       "</tr>\n",
       "<tr>\n",
       "  <th>Intercept</th>             <td>   36.2203</td> <td>    0.251</td> <td>  144.246</td> <td> 0.000</td> <td>   35.728</td> <td>   36.713</td>\n",
       "</tr>\n",
       "<tr>\n",
       "  <th>displ</th>                 <td>   -3.1782</td> <td>    0.122</td> <td>  -25.968</td> <td> 0.000</td> <td>   -3.418</td> <td>   -2.938</td>\n",
       "</tr>\n",
       "<tr>\n",
       "  <th>tCharger</th>              <td>   -2.2123</td> <td>    0.129</td> <td>  -17.108</td> <td> 0.000</td> <td>   -2.466</td> <td>   -1.959</td>\n",
       "</tr>\n",
       "<tr>\n",
       "  <th>drive</th>                 <td>   -0.7760</td> <td>    0.055</td> <td>  -14.115</td> <td> 0.000</td> <td>   -0.884</td> <td>   -0.668</td>\n",
       "</tr>\n",
       "<tr>\n",
       "  <th>sCharger</th>              <td>   -1.3201</td> <td>    0.266</td> <td>   -4.971</td> <td> 0.000</td> <td>   -1.841</td> <td>   -0.799</td>\n",
       "</tr>\n",
       "<tr>\n",
       "  <th>automatictransmission</th> <td>    0.2103</td> <td>    0.171</td> <td>    1.233</td> <td> 0.218</td> <td>   -0.124</td> <td>    0.545</td>\n",
       "</tr>\n",
       "<tr>\n",
       "  <th>cylinders</th>             <td>   -0.0414</td> <td>    0.081</td> <td>   -0.510</td> <td> 0.610</td> <td>   -0.201</td> <td>    0.118</td>\n",
       "</tr>\n",
       "</table>\n",
       "<table class=\"simpletable\">\n",
       "<tr>\n",
       "  <th>Omnibus:</th>       <td>29.801</td> <th>  Durbin-Watson:     </th> <td>   1.968</td>\n",
       "</tr>\n",
       "<tr>\n",
       "  <th>Prob(Omnibus):</th> <td> 0.000</td> <th>  Jarque-Bera (JB):  </th> <td>  30.830</td>\n",
       "</tr>\n",
       "<tr>\n",
       "  <th>Skew:</th>          <td> 0.268</td> <th>  Prob(JB):          </th> <td>2.02e-07</td>\n",
       "</tr>\n",
       "<tr>\n",
       "  <th>Kurtosis:</th>      <td> 3.192</td> <th>  Cond. No.          </th> <td>    37.9</td>\n",
       "</tr>\n",
       "</table><br/><br/>Notes:<br/>[1] Standard Errors assume that the covariance matrix of the errors is correctly specified."
      ],
      "text/plain": [
       "<class 'statsmodels.iolib.summary.Summary'>\n",
       "\"\"\"\n",
       "                            OLS Regression Results                            \n",
       "==============================================================================\n",
       "Dep. Variable:                comb08U   R-squared:                       0.737\n",
       "Model:                            OLS   Adj. R-squared:                  0.736\n",
       "Method:                 Least Squares   F-statistic:                     1062.\n",
       "Date:                Tue, 04 May 2021   Prob (F-statistic):               0.00\n",
       "Time:                        02:14:48   Log-Likelihood:                -5364.9\n",
       "No. Observations:                2283   AIC:                         1.074e+04\n",
       "Df Residuals:                    2276   BIC:                         1.078e+04\n",
       "Df Model:                           6                                         \n",
       "Covariance Type:            nonrobust                                         \n",
       "=========================================================================================\n",
       "                            coef    std err          t      P>|t|      [0.025      0.975]\n",
       "-----------------------------------------------------------------------------------------\n",
       "Intercept                36.2203      0.251    144.246      0.000      35.728      36.713\n",
       "displ                    -3.1782      0.122    -25.968      0.000      -3.418      -2.938\n",
       "tCharger                 -2.2123      0.129    -17.108      0.000      -2.466      -1.959\n",
       "drive                    -0.7760      0.055    -14.115      0.000      -0.884      -0.668\n",
       "sCharger                 -1.3201      0.266     -4.971      0.000      -1.841      -0.799\n",
       "automatictransmission     0.2103      0.171      1.233      0.218      -0.124       0.545\n",
       "cylinders                -0.0414      0.081     -0.510      0.610      -0.201       0.118\n",
       "==============================================================================\n",
       "Omnibus:                       29.801   Durbin-Watson:                   1.968\n",
       "Prob(Omnibus):                  0.000   Jarque-Bera (JB):               30.830\n",
       "Skew:                           0.268   Prob(JB):                     2.02e-07\n",
       "Kurtosis:                       3.192   Cond. No.                         37.9\n",
       "==============================================================================\n",
       "\n",
       "Notes:\n",
       "[1] Standard Errors assume that the covariance matrix of the errors is correctly specified.\n",
       "\"\"\""
      ]
     },
     "execution_count": 43,
     "metadata": {},
     "output_type": "execute_result"
    }
   ],
   "source": [
    "#Display summary of best model by R^2\n",
    "best_mod = smf.ols(formula='comb08U~displ + tCharger + drive + sCharger + automatictransmission + cylinders',data = datatraining).fit()\n",
    "best_mod.summary()"
   ]
  },
  {
   "cell_type": "markdown",
   "metadata": {},
   "source": [
    "**Analysis:** It appears that the 6th parameter, \"cylinders\", is not statistically significant due to its P-value being over 0.05. This corresponds nicely to the Adj R^2 indicating that the the models prediction of the test data is maximized when \"cylinders\" is removed. As such, we will remove that from the regression, and then rerun again to ensure no other parameters in this new model are statistically insignificant."
   ]
  },
  {
   "cell_type": "code",
   "execution_count": 14,
   "metadata": {},
   "outputs": [
    {
     "data": {
      "text/html": [
       "<table class=\"simpletable\">\n",
       "<caption>OLS Regression Results</caption>\n",
       "<tr>\n",
       "  <th>Dep. Variable:</th>         <td>comb08U</td>     <th>  R-squared:         </th> <td>   0.737</td> \n",
       "</tr>\n",
       "<tr>\n",
       "  <th>Model:</th>                   <td>OLS</td>       <th>  Adj. R-squared:    </th> <td>   0.736</td> \n",
       "</tr>\n",
       "<tr>\n",
       "  <th>Method:</th>             <td>Least Squares</td>  <th>  F-statistic:       </th> <td>   1275.</td> \n",
       "</tr>\n",
       "<tr>\n",
       "  <th>Date:</th>             <td>Mon, 03 May 2021</td> <th>  Prob (F-statistic):</th>  <td>  0.00</td>  \n",
       "</tr>\n",
       "<tr>\n",
       "  <th>Time:</th>                 <td>22:34:05</td>     <th>  Log-Likelihood:    </th> <td> -5365.0</td> \n",
       "</tr>\n",
       "<tr>\n",
       "  <th>No. Observations:</th>      <td>  2283</td>      <th>  AIC:               </th> <td>1.074e+04</td>\n",
       "</tr>\n",
       "<tr>\n",
       "  <th>Df Residuals:</th>          <td>  2277</td>      <th>  BIC:               </th> <td>1.078e+04</td>\n",
       "</tr>\n",
       "<tr>\n",
       "  <th>Df Model:</th>              <td>     5</td>      <th>                     </th>     <td> </td>    \n",
       "</tr>\n",
       "<tr>\n",
       "  <th>Covariance Type:</th>      <td>nonrobust</td>    <th>                     </th>     <td> </td>    \n",
       "</tr>\n",
       "</table>\n",
       "<table class=\"simpletable\">\n",
       "<tr>\n",
       "            <td></td>               <th>coef</th>     <th>std err</th>      <th>t</th>      <th>P>|t|</th>  <th>[0.025</th>    <th>0.975]</th>  \n",
       "</tr>\n",
       "<tr>\n",
       "  <th>Intercept</th>             <td>   36.1849</td> <td>    0.241</td> <td>  150.002</td> <td> 0.000</td> <td>   35.712</td> <td>   36.658</td>\n",
       "</tr>\n",
       "<tr>\n",
       "  <th>displ</th>                 <td>   -3.2364</td> <td>    0.044</td> <td>  -73.560</td> <td> 0.000</td> <td>   -3.323</td> <td>   -3.150</td>\n",
       "</tr>\n",
       "<tr>\n",
       "  <th>tCharger</th>              <td>   -2.2404</td> <td>    0.117</td> <td>  -19.158</td> <td> 0.000</td> <td>   -2.470</td> <td>   -2.011</td>\n",
       "</tr>\n",
       "<tr>\n",
       "  <th>drive</th>                 <td>   -0.7754</td> <td>    0.055</td> <td>  -14.109</td> <td> 0.000</td> <td>   -0.883</td> <td>   -0.668</td>\n",
       "</tr>\n",
       "<tr>\n",
       "  <th>sCharger</th>              <td>   -1.3162</td> <td>    0.265</td> <td>   -4.959</td> <td> 0.000</td> <td>   -1.837</td> <td>   -0.796</td>\n",
       "</tr>\n",
       "<tr>\n",
       "  <th>automatictransmission</th> <td>    0.2087</td> <td>    0.171</td> <td>    1.224</td> <td> 0.221</td> <td>   -0.126</td> <td>    0.543</td>\n",
       "</tr>\n",
       "</table>\n",
       "<table class=\"simpletable\">\n",
       "<tr>\n",
       "  <th>Omnibus:</th>       <td>29.370</td> <th>  Durbin-Watson:     </th> <td>   1.968</td>\n",
       "</tr>\n",
       "<tr>\n",
       "  <th>Prob(Omnibus):</th> <td> 0.000</td> <th>  Jarque-Bera (JB):  </th> <td>  30.326</td>\n",
       "</tr>\n",
       "<tr>\n",
       "  <th>Skew:</th>          <td> 0.267</td> <th>  Prob(JB):          </th> <td>2.60e-07</td>\n",
       "</tr>\n",
       "<tr>\n",
       "  <th>Kurtosis:</th>      <td> 3.183</td> <th>  Cond. No.          </th> <td>    23.3</td>\n",
       "</tr>\n",
       "</table><br/><br/>Notes:<br/>[1] Standard Errors assume that the covariance matrix of the errors is correctly specified."
      ],
      "text/plain": [
       "<class 'statsmodels.iolib.summary.Summary'>\n",
       "\"\"\"\n",
       "                            OLS Regression Results                            \n",
       "==============================================================================\n",
       "Dep. Variable:                comb08U   R-squared:                       0.737\n",
       "Model:                            OLS   Adj. R-squared:                  0.736\n",
       "Method:                 Least Squares   F-statistic:                     1275.\n",
       "Date:                Mon, 03 May 2021   Prob (F-statistic):               0.00\n",
       "Time:                        22:34:05   Log-Likelihood:                -5365.0\n",
       "No. Observations:                2283   AIC:                         1.074e+04\n",
       "Df Residuals:                    2277   BIC:                         1.078e+04\n",
       "Df Model:                           5                                         \n",
       "Covariance Type:            nonrobust                                         \n",
       "=========================================================================================\n",
       "                            coef    std err          t      P>|t|      [0.025      0.975]\n",
       "-----------------------------------------------------------------------------------------\n",
       "Intercept                36.1849      0.241    150.002      0.000      35.712      36.658\n",
       "displ                    -3.2364      0.044    -73.560      0.000      -3.323      -3.150\n",
       "tCharger                 -2.2404      0.117    -19.158      0.000      -2.470      -2.011\n",
       "drive                    -0.7754      0.055    -14.109      0.000      -0.883      -0.668\n",
       "sCharger                 -1.3162      0.265     -4.959      0.000      -1.837      -0.796\n",
       "automatictransmission     0.2087      0.171      1.224      0.221      -0.126       0.543\n",
       "==============================================================================\n",
       "Omnibus:                       29.370   Durbin-Watson:                   1.968\n",
       "Prob(Omnibus):                  0.000   Jarque-Bera (JB):               30.326\n",
       "Skew:                           0.267   Prob(JB):                     2.60e-07\n",
       "Kurtosis:                       3.183   Cond. No.                         23.3\n",
       "==============================================================================\n",
       "\n",
       "Notes:\n",
       "[1] Standard Errors assume that the covariance matrix of the errors is correctly specified.\n",
       "\"\"\""
      ]
     },
     "execution_count": 14,
     "metadata": {},
     "output_type": "execute_result"
    }
   ],
   "source": [
    "#Remove 'cylinders' from dataset\n",
    "cleaneddataset = cleaneddataset.drop(columns=['cylinders'])\n",
    "\n",
    "#Update model and display summary\n",
    "best_mod = smf.ols(formula='comb08U~displ + tCharger + drive + sCharger + automatictransmission',data = datatraining).fit()\n",
    "best_mod.summary()"
   ]
  },
  {
   "cell_type": "markdown",
   "metadata": {},
   "source": [
    "**Analysis:** With this rerun, all factors appear to be signficant, and the Adj. R^2 is now significantly improved from ML model 1.\n",
    "\n",
    "However, there are still things that can be done. Next up, we will check for interaction between the terms."
   ]
  },
  {
   "cell_type": "markdown",
   "metadata": {},
   "source": [
    "### ML Model 3: Multi-Linear Regression With Interaction Terms"
   ]
  },
  {
   "cell_type": "markdown",
   "metadata": {},
   "source": [
    "Next I've listed every possible combination of the 5 remaining terms below, and we will construct a huge model with all of them. From there, we will see which are stastically significant."
   ]
  },
  {
   "cell_type": "code",
   "execution_count": 15,
   "metadata": {},
   "outputs": [
    {
     "data": {
      "text/html": [
       "<table class=\"simpletable\">\n",
       "<caption>OLS Regression Results</caption>\n",
       "<tr>\n",
       "  <th>Dep. Variable:</th>         <td>comb08U</td>     <th>  R-squared:         </th> <td>   0.749</td> \n",
       "</tr>\n",
       "<tr>\n",
       "  <th>Model:</th>                   <td>OLS</td>       <th>  Adj. R-squared:    </th> <td>   0.748</td> \n",
       "</tr>\n",
       "<tr>\n",
       "  <th>Method:</th>             <td>Least Squares</td>  <th>  F-statistic:       </th> <td>   451.7</td> \n",
       "</tr>\n",
       "<tr>\n",
       "  <th>Date:</th>             <td>Mon, 03 May 2021</td> <th>  Prob (F-statistic):</th>  <td>  0.00</td>  \n",
       "</tr>\n",
       "<tr>\n",
       "  <th>Time:</th>                 <td>22:34:05</td>     <th>  Log-Likelihood:    </th> <td> -5309.8</td> \n",
       "</tr>\n",
       "<tr>\n",
       "  <th>No. Observations:</th>      <td>  2283</td>      <th>  AIC:               </th> <td>1.065e+04</td>\n",
       "</tr>\n",
       "<tr>\n",
       "  <th>Df Residuals:</th>          <td>  2267</td>      <th>  BIC:               </th> <td>1.074e+04</td>\n",
       "</tr>\n",
       "<tr>\n",
       "  <th>Df Model:</th>              <td>    15</td>      <th>                     </th>     <td> </td>    \n",
       "</tr>\n",
       "<tr>\n",
       "  <th>Covariance Type:</th>      <td>nonrobust</td>    <th>                     </th>     <td> </td>    \n",
       "</tr>\n",
       "</table>\n",
       "<table class=\"simpletable\">\n",
       "<tr>\n",
       "                 <td></td>                   <th>coef</th>     <th>std err</th>      <th>t</th>      <th>P>|t|</th>  <th>[0.025</th>    <th>0.975]</th>  \n",
       "</tr>\n",
       "<tr>\n",
       "  <th>Intercept</th>                      <td>   41.5232</td> <td>    0.705</td> <td>   58.894</td> <td> 0.000</td> <td>   40.141</td> <td>   42.906</td>\n",
       "</tr>\n",
       "<tr>\n",
       "  <th>displ</th>                          <td>   -4.1757</td> <td>    0.169</td> <td>  -24.653</td> <td> 0.000</td> <td>   -4.508</td> <td>   -3.844</td>\n",
       "</tr>\n",
       "<tr>\n",
       "  <th>tCharger</th>                       <td>   -3.9020</td> <td>    0.463</td> <td>   -8.429</td> <td> 0.000</td> <td>   -4.810</td> <td>   -2.994</td>\n",
       "</tr>\n",
       "<tr>\n",
       "  <th>displ:tCharger</th>                 <td>   -0.0107</td> <td>    0.091</td> <td>   -0.118</td> <td> 0.906</td> <td>   -0.189</td> <td>    0.168</td>\n",
       "</tr>\n",
       "<tr>\n",
       "  <th>drive</th>                          <td>   -2.4385</td> <td>    0.256</td> <td>   -9.531</td> <td> 0.000</td> <td>   -2.940</td> <td>   -1.937</td>\n",
       "</tr>\n",
       "<tr>\n",
       "  <th>displ:drive</th>                    <td>    0.2279</td> <td>    0.046</td> <td>    4.974</td> <td> 0.000</td> <td>    0.138</td> <td>    0.318</td>\n",
       "</tr>\n",
       "<tr>\n",
       "  <th>sCharger</th>                       <td>   -9.1742</td> <td>    1.487</td> <td>   -6.172</td> <td> 0.000</td> <td>  -12.089</td> <td>   -6.259</td>\n",
       "</tr>\n",
       "<tr>\n",
       "  <th>displ:sCharger</th>                 <td>    1.5302</td> <td>    0.218</td> <td>    7.008</td> <td> 0.000</td> <td>    1.102</td> <td>    1.958</td>\n",
       "</tr>\n",
       "<tr>\n",
       "  <th>automatictransmission</th>          <td>   -2.6792</td> <td>    0.680</td> <td>   -3.937</td> <td> 0.000</td> <td>   -4.014</td> <td>   -1.345</td>\n",
       "</tr>\n",
       "<tr>\n",
       "  <th>displ:automatictransmission</th>    <td>    0.2818</td> <td>    0.150</td> <td>    1.876</td> <td> 0.061</td> <td>   -0.013</td> <td>    0.576</td>\n",
       "</tr>\n",
       "<tr>\n",
       "  <th>tCharger:drive</th>                 <td>    0.3951</td> <td>    0.120</td> <td>    3.289</td> <td> 0.001</td> <td>    0.160</td> <td>    0.631</td>\n",
       "</tr>\n",
       "<tr>\n",
       "  <th>tCharger:sCharger</th>              <td>    3.9114</td> <td>    0.976</td> <td>    4.007</td> <td> 0.000</td> <td>    1.997</td> <td>    5.826</td>\n",
       "</tr>\n",
       "<tr>\n",
       "  <th>tCharger:automatictransmission</th> <td>    0.6306</td> <td>    0.356</td> <td>    1.772</td> <td> 0.077</td> <td>   -0.067</td> <td>    1.329</td>\n",
       "</tr>\n",
       "<tr>\n",
       "  <th>drive:sCharger</th>                 <td>    0.2539</td> <td>    0.310</td> <td>    0.819</td> <td> 0.413</td> <td>   -0.354</td> <td>    0.862</td>\n",
       "</tr>\n",
       "<tr>\n",
       "  <th>drive:automatictransmission</th>    <td>    0.7821</td> <td>    0.207</td> <td>    3.780</td> <td> 0.000</td> <td>    0.376</td> <td>    1.188</td>\n",
       "</tr>\n",
       "<tr>\n",
       "  <th>sCharger:automatictransmission</th> <td>    0.1706</td> <td>    0.896</td> <td>    0.190</td> <td> 0.849</td> <td>   -1.586</td> <td>    1.927</td>\n",
       "</tr>\n",
       "</table>\n",
       "<table class=\"simpletable\">\n",
       "<tr>\n",
       "  <th>Omnibus:</th>       <td>27.532</td> <th>  Durbin-Watson:     </th> <td>   1.995</td>\n",
       "</tr>\n",
       "<tr>\n",
       "  <th>Prob(Omnibus):</th> <td> 0.000</td> <th>  Jarque-Bera (JB):  </th> <td>  29.713</td>\n",
       "</tr>\n",
       "<tr>\n",
       "  <th>Skew:</th>          <td> 0.232</td> <th>  Prob(JB):          </th> <td>3.53e-07</td>\n",
       "</tr>\n",
       "<tr>\n",
       "  <th>Kurtosis:</th>      <td> 3.312</td> <th>  Cond. No.          </th> <td>    373.</td>\n",
       "</tr>\n",
       "</table><br/><br/>Notes:<br/>[1] Standard Errors assume that the covariance matrix of the errors is correctly specified."
      ],
      "text/plain": [
       "<class 'statsmodels.iolib.summary.Summary'>\n",
       "\"\"\"\n",
       "                            OLS Regression Results                            \n",
       "==============================================================================\n",
       "Dep. Variable:                comb08U   R-squared:                       0.749\n",
       "Model:                            OLS   Adj. R-squared:                  0.748\n",
       "Method:                 Least Squares   F-statistic:                     451.7\n",
       "Date:                Mon, 03 May 2021   Prob (F-statistic):               0.00\n",
       "Time:                        22:34:05   Log-Likelihood:                -5309.8\n",
       "No. Observations:                2283   AIC:                         1.065e+04\n",
       "Df Residuals:                    2267   BIC:                         1.074e+04\n",
       "Df Model:                          15                                         \n",
       "Covariance Type:            nonrobust                                         \n",
       "==================================================================================================\n",
       "                                     coef    std err          t      P>|t|      [0.025      0.975]\n",
       "--------------------------------------------------------------------------------------------------\n",
       "Intercept                         41.5232      0.705     58.894      0.000      40.141      42.906\n",
       "displ                             -4.1757      0.169    -24.653      0.000      -4.508      -3.844\n",
       "tCharger                          -3.9020      0.463     -8.429      0.000      -4.810      -2.994\n",
       "displ:tCharger                    -0.0107      0.091     -0.118      0.906      -0.189       0.168\n",
       "drive                             -2.4385      0.256     -9.531      0.000      -2.940      -1.937\n",
       "displ:drive                        0.2279      0.046      4.974      0.000       0.138       0.318\n",
       "sCharger                          -9.1742      1.487     -6.172      0.000     -12.089      -6.259\n",
       "displ:sCharger                     1.5302      0.218      7.008      0.000       1.102       1.958\n",
       "automatictransmission             -2.6792      0.680     -3.937      0.000      -4.014      -1.345\n",
       "displ:automatictransmission        0.2818      0.150      1.876      0.061      -0.013       0.576\n",
       "tCharger:drive                     0.3951      0.120      3.289      0.001       0.160       0.631\n",
       "tCharger:sCharger                  3.9114      0.976      4.007      0.000       1.997       5.826\n",
       "tCharger:automatictransmission     0.6306      0.356      1.772      0.077      -0.067       1.329\n",
       "drive:sCharger                     0.2539      0.310      0.819      0.413      -0.354       0.862\n",
       "drive:automatictransmission        0.7821      0.207      3.780      0.000       0.376       1.188\n",
       "sCharger:automatictransmission     0.1706      0.896      0.190      0.849      -1.586       1.927\n",
       "==============================================================================\n",
       "Omnibus:                       27.532   Durbin-Watson:                   1.995\n",
       "Prob(Omnibus):                  0.000   Jarque-Bera (JB):               29.713\n",
       "Skew:                           0.232   Prob(JB):                     3.53e-07\n",
       "Kurtosis:                       3.312   Cond. No.                         373.\n",
       "==============================================================================\n",
       "\n",
       "Notes:\n",
       "[1] Standard Errors assume that the covariance matrix of the errors is correctly specified.\n",
       "\"\"\""
      ]
     },
     "execution_count": 15,
     "metadata": {},
     "output_type": "execute_result"
    }
   ],
   "source": [
    "#All possible combos of the parameters\n",
    "\"\"\"\n",
    "displ * tCharger\n",
    "displ * drive\n",
    "displ * sCharger\n",
    "displ * automatictransmission\n",
    "tCharger * drive\n",
    "tCharger * sCharger\n",
    "tCharger * automatictransmission\n",
    "drive * sCharger\n",
    "drive * automatictransmission\n",
    "sCharger * automatictransmission\n",
    "\"\"\"\n",
    "\n",
    "#Update model and display summary\n",
    "best_mod = smf.ols(formula='comb08U~ displ * tCharger + displ * drive + displ * sCharger + displ * automatictransmission + tCharger * drive + tCharger * sCharger + tCharger * automatictransmission + drive * sCharger + drive * automatictransmission + sCharger * automatictransmission',data = datatraining).fit()\n",
    "best_mod.summary()"
   ]
  },
  {
   "cell_type": "markdown",
   "metadata": {},
   "source": [
    "**Analysis:** Looks like there are 5 interaction terms that are statistically significant:\n",
    "displ:drive, displ:sCharger, displ:automatictransmission, tCharger:drive, tCharger:sCharger.\n",
    "\n",
    "We will now build a model with all of these terms, and check again for signicance.\n"
   ]
  },
  {
   "cell_type": "code",
   "execution_count": 18,
   "metadata": {},
   "outputs": [
    {
     "data": {
      "text/html": [
       "<table class=\"simpletable\">\n",
       "<caption>OLS Regression Results</caption>\n",
       "<tr>\n",
       "  <th>Dep. Variable:</th>         <td>comb08U</td>     <th>  R-squared:         </th> <td>   0.747</td> \n",
       "</tr>\n",
       "<tr>\n",
       "  <th>Model:</th>                   <td>OLS</td>       <th>  Adj. R-squared:    </th> <td>   0.746</td> \n",
       "</tr>\n",
       "<tr>\n",
       "  <th>Method:</th>             <td>Least Squares</td>  <th>  F-statistic:       </th> <td>   671.4</td> \n",
       "</tr>\n",
       "<tr>\n",
       "  <th>Date:</th>             <td>Mon, 03 May 2021</td> <th>  Prob (F-statistic):</th>  <td>  0.00</td>  \n",
       "</tr>\n",
       "<tr>\n",
       "  <th>Time:</th>                 <td>22:34:37</td>     <th>  Log-Likelihood:    </th> <td> -5319.5</td> \n",
       "</tr>\n",
       "<tr>\n",
       "  <th>No. Observations:</th>      <td>  2283</td>      <th>  AIC:               </th> <td>1.066e+04</td>\n",
       "</tr>\n",
       "<tr>\n",
       "  <th>Df Residuals:</th>          <td>  2272</td>      <th>  BIC:               </th> <td>1.072e+04</td>\n",
       "</tr>\n",
       "<tr>\n",
       "  <th>Df Model:</th>              <td>    10</td>      <th>                     </th>     <td> </td>    \n",
       "</tr>\n",
       "<tr>\n",
       "  <th>Covariance Type:</th>      <td>nonrobust</td>    <th>                     </th>     <td> </td>    \n",
       "</tr>\n",
       "</table>\n",
       "<table class=\"simpletable\">\n",
       "<tr>\n",
       "               <td></td>                  <th>coef</th>     <th>std err</th>      <th>t</th>      <th>P>|t|</th>  <th>[0.025</th>    <th>0.975]</th>  \n",
       "</tr>\n",
       "<tr>\n",
       "  <th>Intercept</th>                   <td>   39.7366</td> <td>    0.567</td> <td>   70.069</td> <td> 0.000</td> <td>   38.624</td> <td>   40.849</td>\n",
       "</tr>\n",
       "<tr>\n",
       "  <th>displ</th>                       <td>   -4.2358</td> <td>    0.157</td> <td>  -26.925</td> <td> 0.000</td> <td>   -4.544</td> <td>   -3.927</td>\n",
       "</tr>\n",
       "<tr>\n",
       "  <th>tCharger</th>                    <td>   -3.5094</td> <td>    0.347</td> <td>  -10.110</td> <td> 0.000</td> <td>   -4.190</td> <td>   -2.829</td>\n",
       "</tr>\n",
       "<tr>\n",
       "  <th>sCharger</th>                    <td>   -8.1408</td> <td>    1.012</td> <td>   -8.048</td> <td> 0.000</td> <td>  -10.124</td> <td>   -6.157</td>\n",
       "</tr>\n",
       "<tr>\n",
       "  <th>tCharger:sCharger</th>           <td>    4.1808</td> <td>    0.949</td> <td>    4.403</td> <td> 0.000</td> <td>    2.319</td> <td>    6.043</td>\n",
       "</tr>\n",
       "<tr>\n",
       "  <th>drive</th>                       <td>   -1.8232</td> <td>    0.186</td> <td>   -9.799</td> <td> 0.000</td> <td>   -2.188</td> <td>   -1.458</td>\n",
       "</tr>\n",
       "<tr>\n",
       "  <th>tCharger:drive</th>              <td>    0.4411</td> <td>    0.116</td> <td>    3.817</td> <td> 0.000</td> <td>    0.214</td> <td>    0.668</td>\n",
       "</tr>\n",
       "<tr>\n",
       "  <th>displ:drive</th>                 <td>    0.2574</td> <td>    0.045</td> <td>    5.703</td> <td> 0.000</td> <td>    0.169</td> <td>    0.346</td>\n",
       "</tr>\n",
       "<tr>\n",
       "  <th>displ:sCharger</th>              <td>    1.5204</td> <td>    0.214</td> <td>    7.111</td> <td> 0.000</td> <td>    1.101</td> <td>    1.940</td>\n",
       "</tr>\n",
       "<tr>\n",
       "  <th>automatictransmission</th>       <td>   -0.3321</td> <td>    0.392</td> <td>   -0.847</td> <td> 0.397</td> <td>   -1.101</td> <td>    0.437</td>\n",
       "</tr>\n",
       "<tr>\n",
       "  <th>displ:automatictransmission</th> <td>    0.2449</td> <td>    0.132</td> <td>    1.854</td> <td> 0.064</td> <td>   -0.014</td> <td>    0.504</td>\n",
       "</tr>\n",
       "</table>\n",
       "<table class=\"simpletable\">\n",
       "<tr>\n",
       "  <th>Omnibus:</th>       <td>26.728</td> <th>  Durbin-Watson:     </th> <td>   1.994</td>\n",
       "</tr>\n",
       "<tr>\n",
       "  <th>Prob(Omnibus):</th> <td> 0.000</td> <th>  Jarque-Bera (JB):  </th> <td>  28.271</td>\n",
       "</tr>\n",
       "<tr>\n",
       "  <th>Skew:</th>          <td> 0.237</td> <th>  Prob(JB):          </th> <td>7.26e-07</td>\n",
       "</tr>\n",
       "<tr>\n",
       "  <th>Kurtosis:</th>      <td> 3.271</td> <th>  Cond. No.          </th> <td>    290.</td>\n",
       "</tr>\n",
       "</table><br/><br/>Notes:<br/>[1] Standard Errors assume that the covariance matrix of the errors is correctly specified."
      ],
      "text/plain": [
       "<class 'statsmodels.iolib.summary.Summary'>\n",
       "\"\"\"\n",
       "                            OLS Regression Results                            \n",
       "==============================================================================\n",
       "Dep. Variable:                comb08U   R-squared:                       0.747\n",
       "Model:                            OLS   Adj. R-squared:                  0.746\n",
       "Method:                 Least Squares   F-statistic:                     671.4\n",
       "Date:                Mon, 03 May 2021   Prob (F-statistic):               0.00\n",
       "Time:                        22:34:37   Log-Likelihood:                -5319.5\n",
       "No. Observations:                2283   AIC:                         1.066e+04\n",
       "Df Residuals:                    2272   BIC:                         1.072e+04\n",
       "Df Model:                          10                                         \n",
       "Covariance Type:            nonrobust                                         \n",
       "===============================================================================================\n",
       "                                  coef    std err          t      P>|t|      [0.025      0.975]\n",
       "-----------------------------------------------------------------------------------------------\n",
       "Intercept                      39.7366      0.567     70.069      0.000      38.624      40.849\n",
       "displ                          -4.2358      0.157    -26.925      0.000      -4.544      -3.927\n",
       "tCharger                       -3.5094      0.347    -10.110      0.000      -4.190      -2.829\n",
       "sCharger                       -8.1408      1.012     -8.048      0.000     -10.124      -6.157\n",
       "tCharger:sCharger               4.1808      0.949      4.403      0.000       2.319       6.043\n",
       "drive                          -1.8232      0.186     -9.799      0.000      -2.188      -1.458\n",
       "tCharger:drive                  0.4411      0.116      3.817      0.000       0.214       0.668\n",
       "displ:drive                     0.2574      0.045      5.703      0.000       0.169       0.346\n",
       "displ:sCharger                  1.5204      0.214      7.111      0.000       1.101       1.940\n",
       "automatictransmission          -0.3321      0.392     -0.847      0.397      -1.101       0.437\n",
       "displ:automatictransmission     0.2449      0.132      1.854      0.064      -0.014       0.504\n",
       "==============================================================================\n",
       "Omnibus:                       26.728   Durbin-Watson:                   1.994\n",
       "Prob(Omnibus):                  0.000   Jarque-Bera (JB):               28.271\n",
       "Skew:                           0.237   Prob(JB):                     7.26e-07\n",
       "Kurtosis:                       3.271   Cond. No.                         290.\n",
       "==============================================================================\n",
       "\n",
       "Notes:\n",
       "[1] Standard Errors assume that the covariance matrix of the errors is correctly specified.\n",
       "\"\"\""
      ]
     },
     "execution_count": 18,
     "metadata": {},
     "output_type": "execute_result"
    }
   ],
   "source": [
    "#Update model and display summary\n",
    "best_mod = smf.ols(formula='comb08U~displ + tCharger*sCharger + tCharger*drive + displ*drive + displ*sCharger + displ*automatictransmission',data = datatraining).fit()\n",
    "best_mod.summary()"
   ]
  },
  {
   "cell_type": "markdown",
   "metadata": {},
   "source": [
    "**Analysis:** It appears that automatic transmission is now not significant with these interaction terms-- it's effect likely is captured through the other interaction terms. As such, in order to simplify the model (and reduce risk of overfitting), I will re-run one last time with automatictransmission removed."
   ]
  },
  {
   "cell_type": "code",
   "execution_count": 19,
   "metadata": {},
   "outputs": [
    {
     "data": {
      "text/html": [
       "<table class=\"simpletable\">\n",
       "<caption>OLS Regression Results</caption>\n",
       "<tr>\n",
       "  <th>Dep. Variable:</th>         <td>comb08U</td>     <th>  R-squared:         </th> <td>   0.746</td> \n",
       "</tr>\n",
       "<tr>\n",
       "  <th>Model:</th>                   <td>OLS</td>       <th>  Adj. R-squared:    </th> <td>   0.745</td> \n",
       "</tr>\n",
       "<tr>\n",
       "  <th>Method:</th>             <td>Least Squares</td>  <th>  F-statistic:       </th> <td>   836.5</td> \n",
       "</tr>\n",
       "<tr>\n",
       "  <th>Date:</th>             <td>Mon, 03 May 2021</td> <th>  Prob (F-statistic):</th>  <td>  0.00</td>  \n",
       "</tr>\n",
       "<tr>\n",
       "  <th>Time:</th>                 <td>22:37:33</td>     <th>  Log-Likelihood:    </th> <td> -5323.1</td> \n",
       "</tr>\n",
       "<tr>\n",
       "  <th>No. Observations:</th>      <td>  2283</td>      <th>  AIC:               </th> <td>1.066e+04</td>\n",
       "</tr>\n",
       "<tr>\n",
       "  <th>Df Residuals:</th>          <td>  2274</td>      <th>  BIC:               </th> <td>1.072e+04</td>\n",
       "</tr>\n",
       "<tr>\n",
       "  <th>Df Model:</th>              <td>     8</td>      <th>                     </th>     <td> </td>    \n",
       "</tr>\n",
       "<tr>\n",
       "  <th>Covariance Type:</th>      <td>nonrobust</td>    <th>                     </th>     <td> </td>    \n",
       "</tr>\n",
       "</table>\n",
       "<table class=\"simpletable\">\n",
       "<tr>\n",
       "          <td></td>             <th>coef</th>     <th>std err</th>      <th>t</th>      <th>P>|t|</th>  <th>[0.025</th>    <th>0.975]</th>  \n",
       "</tr>\n",
       "<tr>\n",
       "  <th>Intercept</th>         <td>   39.4907</td> <td>    0.520</td> <td>   75.974</td> <td> 0.000</td> <td>   38.471</td> <td>   40.510</td>\n",
       "</tr>\n",
       "<tr>\n",
       "  <th>displ</th>             <td>   -4.0490</td> <td>    0.130</td> <td>  -31.260</td> <td> 0.000</td> <td>   -4.303</td> <td>   -3.795</td>\n",
       "</tr>\n",
       "<tr>\n",
       "  <th>tCharger</th>          <td>   -3.5013</td> <td>    0.347</td> <td>  -10.089</td> <td> 0.000</td> <td>   -4.182</td> <td>   -2.821</td>\n",
       "</tr>\n",
       "<tr>\n",
       "  <th>sCharger</th>          <td>   -7.8778</td> <td>    1.007</td> <td>   -7.821</td> <td> 0.000</td> <td>   -9.853</td> <td>   -5.903</td>\n",
       "</tr>\n",
       "<tr>\n",
       "  <th>tCharger:sCharger</th> <td>    4.0938</td> <td>    0.950</td> <td>    4.310</td> <td> 0.000</td> <td>    2.231</td> <td>    5.956</td>\n",
       "</tr>\n",
       "<tr>\n",
       "  <th>drive</th>             <td>   -1.8560</td> <td>    0.182</td> <td>  -10.186</td> <td> 0.000</td> <td>   -2.213</td> <td>   -1.499</td>\n",
       "</tr>\n",
       "<tr>\n",
       "  <th>tCharger:drive</th>    <td>    0.4413</td> <td>    0.116</td> <td>    3.816</td> <td> 0.000</td> <td>    0.215</td> <td>    0.668</td>\n",
       "</tr>\n",
       "<tr>\n",
       "  <th>displ:drive</th>       <td>    0.2740</td> <td>    0.044</td> <td>    6.252</td> <td> 0.000</td> <td>    0.188</td> <td>    0.360</td>\n",
       "</tr>\n",
       "<tr>\n",
       "  <th>displ:sCharger</th>    <td>    1.4421</td> <td>    0.212</td> <td>    6.810</td> <td> 0.000</td> <td>    1.027</td> <td>    1.857</td>\n",
       "</tr>\n",
       "</table>\n",
       "<table class=\"simpletable\">\n",
       "<tr>\n",
       "  <th>Omnibus:</th>       <td>24.646</td> <th>  Durbin-Watson:     </th> <td>   1.991</td>\n",
       "</tr>\n",
       "<tr>\n",
       "  <th>Prob(Omnibus):</th> <td> 0.000</td> <th>  Jarque-Bera (JB):  </th> <td>  25.853</td>\n",
       "</tr>\n",
       "<tr>\n",
       "  <th>Skew:</th>          <td> 0.229</td> <th>  Prob(JB):          </th> <td>2.43e-06</td>\n",
       "</tr>\n",
       "<tr>\n",
       "  <th>Kurtosis:</th>      <td> 3.250</td> <th>  Cond. No.          </th> <td>    278.</td>\n",
       "</tr>\n",
       "</table><br/><br/>Notes:<br/>[1] Standard Errors assume that the covariance matrix of the errors is correctly specified."
      ],
      "text/plain": [
       "<class 'statsmodels.iolib.summary.Summary'>\n",
       "\"\"\"\n",
       "                            OLS Regression Results                            \n",
       "==============================================================================\n",
       "Dep. Variable:                comb08U   R-squared:                       0.746\n",
       "Model:                            OLS   Adj. R-squared:                  0.745\n",
       "Method:                 Least Squares   F-statistic:                     836.5\n",
       "Date:                Mon, 03 May 2021   Prob (F-statistic):               0.00\n",
       "Time:                        22:37:33   Log-Likelihood:                -5323.1\n",
       "No. Observations:                2283   AIC:                         1.066e+04\n",
       "Df Residuals:                    2274   BIC:                         1.072e+04\n",
       "Df Model:                           8                                         \n",
       "Covariance Type:            nonrobust                                         \n",
       "=====================================================================================\n",
       "                        coef    std err          t      P>|t|      [0.025      0.975]\n",
       "-------------------------------------------------------------------------------------\n",
       "Intercept            39.4907      0.520     75.974      0.000      38.471      40.510\n",
       "displ                -4.0490      0.130    -31.260      0.000      -4.303      -3.795\n",
       "tCharger             -3.5013      0.347    -10.089      0.000      -4.182      -2.821\n",
       "sCharger             -7.8778      1.007     -7.821      0.000      -9.853      -5.903\n",
       "tCharger:sCharger     4.0938      0.950      4.310      0.000       2.231       5.956\n",
       "drive                -1.8560      0.182    -10.186      0.000      -2.213      -1.499\n",
       "tCharger:drive        0.4413      0.116      3.816      0.000       0.215       0.668\n",
       "displ:drive           0.2740      0.044      6.252      0.000       0.188       0.360\n",
       "displ:sCharger        1.4421      0.212      6.810      0.000       1.027       1.857\n",
       "==============================================================================\n",
       "Omnibus:                       24.646   Durbin-Watson:                   1.991\n",
       "Prob(Omnibus):                  0.000   Jarque-Bera (JB):               25.853\n",
       "Skew:                           0.229   Prob(JB):                     2.43e-06\n",
       "Kurtosis:                       3.250   Cond. No.                         278.\n",
       "==============================================================================\n",
       "\n",
       "Notes:\n",
       "[1] Standard Errors assume that the covariance matrix of the errors is correctly specified.\n",
       "\"\"\""
      ]
     },
     "execution_count": 19,
     "metadata": {},
     "output_type": "execute_result"
    }
   ],
   "source": [
    "#Update model and display summary\n",
    "best_mod = smf.ols(formula='comb08U~displ + tCharger*sCharger + tCharger*drive + displ*drive + displ*sCharger',data = datatraining).fit()\n",
    "best_mod.summary()"
   ]
  },
  {
   "cell_type": "markdown",
   "metadata": {},
   "source": [
    "**Analysis:** With automatic transmission removed. We now have a model that captures interactions, and performs better than either my 1st or 2nd models in terms of adj. R^2."
   ]
  },
  {
   "cell_type": "code",
   "execution_count": 20,
   "metadata": {},
   "outputs": [],
   "source": [
    "#Drop automatictransmission from dataset\n",
    "cleaneddataset = cleaneddataset.drop(columns=['automatictransmission'])"
   ]
  },
  {
   "cell_type": "markdown",
   "metadata": {},
   "source": [
    "While the model is already performing better, there is one more step I want to consider to possibly increase performance: consider non-linear effects."
   ]
  },
  {
   "cell_type": "markdown",
   "metadata": {},
   "source": [
    "### ML Model 4: Multi-Linear (With Polynomial Parameters) Regression With Interaction Terms"
   ]
  },
  {
   "cell_type": "markdown",
   "metadata": {},
   "source": [
    "As one last iteration, I want to ensure the remaining terms we have appear linearly correlated to our target variable. Seaborn's pairplot is a great way to analyze this."
   ]
  },
  {
   "cell_type": "code",
   "execution_count": 23,
   "metadata": {},
   "outputs": [
    {
     "data": {
      "text/plain": [
       "<seaborn.axisgrid.PairGrid at 0x7f8ab09593d0>"
      ]
     },
     "execution_count": 23,
     "metadata": {},
     "output_type": "execute_result"
    },
    {
     "data": {
      "image/png": "[encoded data removed]",
      "text/plain": [
       "<Figure size 900x900 with 30 Axes>"
      ]
     },
     "metadata": {},
     "output_type": "display_data"
    }
   ],
   "source": [
    "#Create pairplot, dropping the ID column from the data\n",
    "sns.pairplot(cleaneddataset.drop(columns=['id']))"
   ]
  },
  {
   "cell_type": "markdown",
   "metadata": {},
   "source": [
    "**Analysis:** This chart neatly shows that we now only have one quantitative variable remaining in our model: displ. However, it's also clear from this model that displ and our target, comb08U, are not quite linearly correlated. Infact, it looks like they may be quadratically correlated, and thus our model may benefit from having a non-linear term for displ.\n",
    "\n",
    "We will try a quadratic term for displ next:"
   ]
  },
  {
   "cell_type": "code",
   "execution_count": 24,
   "metadata": {},
   "outputs": [
    {
     "data": {
      "text/html": [
       "<table class=\"simpletable\">\n",
       "<caption>OLS Regression Results</caption>\n",
       "<tr>\n",
       "  <th>Dep. Variable:</th>         <td>comb08U</td>     <th>  R-squared:         </th> <td>   0.792</td> \n",
       "</tr>\n",
       "<tr>\n",
       "  <th>Model:</th>                   <td>OLS</td>       <th>  Adj. R-squared:    </th> <td>   0.791</td> \n",
       "</tr>\n",
       "<tr>\n",
       "  <th>Method:</th>             <td>Least Squares</td>  <th>  F-statistic:       </th> <td>   959.1</td> \n",
       "</tr>\n",
       "<tr>\n",
       "  <th>Date:</th>             <td>Mon, 03 May 2021</td> <th>  Prob (F-statistic):</th>  <td>  0.00</td>  \n",
       "</tr>\n",
       "<tr>\n",
       "  <th>Time:</th>                 <td>22:47:00</td>     <th>  Log-Likelihood:    </th> <td> -5099.1</td> \n",
       "</tr>\n",
       "<tr>\n",
       "  <th>No. Observations:</th>      <td>  2283</td>      <th>  AIC:               </th> <td>1.022e+04</td>\n",
       "</tr>\n",
       "<tr>\n",
       "  <th>Df Residuals:</th>          <td>  2273</td>      <th>  BIC:               </th> <td>1.028e+04</td>\n",
       "</tr>\n",
       "<tr>\n",
       "  <th>Df Model:</th>              <td>     9</td>      <th>                     </th>     <td> </td>    \n",
       "</tr>\n",
       "<tr>\n",
       "  <th>Covariance Type:</th>      <td>nonrobust</td>    <th>                     </th>     <td> </td>    \n",
       "</tr>\n",
       "</table>\n",
       "<table class=\"simpletable\">\n",
       "<tr>\n",
       "          <td></td>             <th>coef</th>     <th>std err</th>      <th>t</th>      <th>P>|t|</th>  <th>[0.025</th>    <th>0.975]</th>  \n",
       "</tr>\n",
       "<tr>\n",
       "  <th>Intercept</th>         <td>   44.6425</td> <td>    0.525</td> <td>   84.974</td> <td> 0.000</td> <td>   43.612</td> <td>   45.673</td>\n",
       "</tr>\n",
       "<tr>\n",
       "  <th>displ</th>             <td>   -7.8926</td> <td>    0.209</td> <td>  -37.722</td> <td> 0.000</td> <td>   -8.303</td> <td>   -7.482</td>\n",
       "</tr>\n",
       "<tr>\n",
       "  <th>I(displ ** 2)</th>     <td>    0.5480</td> <td>    0.025</td> <td>   22.197</td> <td> 0.000</td> <td>    0.500</td> <td>    0.596</td>\n",
       "</tr>\n",
       "<tr>\n",
       "  <th>tCharger</th>          <td>   -3.4500</td> <td>    0.315</td> <td>  -10.963</td> <td> 0.000</td> <td>   -4.067</td> <td>   -2.833</td>\n",
       "</tr>\n",
       "<tr>\n",
       "  <th>sCharger</th>          <td>   -4.1177</td> <td>    0.929</td> <td>   -4.433</td> <td> 0.000</td> <td>   -5.939</td> <td>   -2.296</td>\n",
       "</tr>\n",
       "<tr>\n",
       "  <th>tCharger:sCharger</th> <td>    1.3759</td> <td>    0.870</td> <td>    1.582</td> <td> 0.114</td> <td>   -0.330</td> <td>    3.082</td>\n",
       "</tr>\n",
       "<tr>\n",
       "  <th>drive</th>             <td>   -1.3969</td> <td>    0.167</td> <td>   -8.390</td> <td> 0.000</td> <td>   -1.723</td> <td>   -1.070</td>\n",
       "</tr>\n",
       "<tr>\n",
       "  <th>tCharger:drive</th>    <td>    0.3912</td> <td>    0.105</td> <td>    3.730</td> <td> 0.000</td> <td>    0.186</td> <td>    0.597</td>\n",
       "</tr>\n",
       "<tr>\n",
       "  <th>displ:drive</th>       <td>    0.1926</td> <td>    0.040</td> <td>    4.828</td> <td> 0.000</td> <td>    0.114</td> <td>    0.271</td>\n",
       "</tr>\n",
       "<tr>\n",
       "  <th>displ:sCharger</th>    <td>    0.5743</td> <td>    0.196</td> <td>    2.931</td> <td> 0.003</td> <td>    0.190</td> <td>    0.959</td>\n",
       "</tr>\n",
       "</table>\n",
       "<table class=\"simpletable\">\n",
       "<tr>\n",
       "  <th>Omnibus:</th>       <td>16.126</td> <th>  Durbin-Watson:     </th> <td>   2.020</td>\n",
       "</tr>\n",
       "<tr>\n",
       "  <th>Prob(Omnibus):</th> <td> 0.000</td> <th>  Jarque-Bera (JB):  </th> <td>  20.207</td>\n",
       "</tr>\n",
       "<tr>\n",
       "  <th>Skew:</th>          <td> 0.109</td> <th>  Prob(JB):          </th> <td>4.09e-05</td>\n",
       "</tr>\n",
       "<tr>\n",
       "  <th>Kurtosis:</th>      <td> 3.406</td> <th>  Cond. No.          </th> <td>    456.</td>\n",
       "</tr>\n",
       "</table><br/><br/>Notes:<br/>[1] Standard Errors assume that the covariance matrix of the errors is correctly specified."
      ],
      "text/plain": [
       "<class 'statsmodels.iolib.summary.Summary'>\n",
       "\"\"\"\n",
       "                            OLS Regression Results                            \n",
       "==============================================================================\n",
       "Dep. Variable:                comb08U   R-squared:                       0.792\n",
       "Model:                            OLS   Adj. R-squared:                  0.791\n",
       "Method:                 Least Squares   F-statistic:                     959.1\n",
       "Date:                Mon, 03 May 2021   Prob (F-statistic):               0.00\n",
       "Time:                        22:47:00   Log-Likelihood:                -5099.1\n",
       "No. Observations:                2283   AIC:                         1.022e+04\n",
       "Df Residuals:                    2273   BIC:                         1.028e+04\n",
       "Df Model:                           9                                         \n",
       "Covariance Type:            nonrobust                                         \n",
       "=====================================================================================\n",
       "                        coef    std err          t      P>|t|      [0.025      0.975]\n",
       "-------------------------------------------------------------------------------------\n",
       "Intercept            44.6425      0.525     84.974      0.000      43.612      45.673\n",
       "displ                -7.8926      0.209    -37.722      0.000      -8.303      -7.482\n",
       "I(displ ** 2)         0.5480      0.025     22.197      0.000       0.500       0.596\n",
       "tCharger             -3.4500      0.315    -10.963      0.000      -4.067      -2.833\n",
       "sCharger             -4.1177      0.929     -4.433      0.000      -5.939      -2.296\n",
       "tCharger:sCharger     1.3759      0.870      1.582      0.114      -0.330       3.082\n",
       "drive                -1.3969      0.167     -8.390      0.000      -1.723      -1.070\n",
       "tCharger:drive        0.3912      0.105      3.730      0.000       0.186       0.597\n",
       "displ:drive           0.1926      0.040      4.828      0.000       0.114       0.271\n",
       "displ:sCharger        0.5743      0.196      2.931      0.003       0.190       0.959\n",
       "==============================================================================\n",
       "Omnibus:                       16.126   Durbin-Watson:                   2.020\n",
       "Prob(Omnibus):                  0.000   Jarque-Bera (JB):               20.207\n",
       "Skew:                           0.109   Prob(JB):                     4.09e-05\n",
       "Kurtosis:                       3.406   Cond. No.                         456.\n",
       "==============================================================================\n",
       "\n",
       "Notes:\n",
       "[1] Standard Errors assume that the covariance matrix of the errors is correctly specified.\n",
       "\"\"\""
      ]
     },
     "execution_count": 24,
     "metadata": {},
     "output_type": "execute_result"
    }
   ],
   "source": [
    "#Update model and display summary\n",
    "best_mod = smf.ols(formula='comb08U~displ + I(displ ** 2) + tCharger*sCharger + tCharger*drive + displ*drive + displ*sCharger',data = datatraining).fit()\n",
    "best_mod.summary()"
   ]
  },
  {
   "cell_type": "markdown",
   "metadata": {},
   "source": [
    "**Analysis:** This additional quadratic term helps our model's performance quite a bit! This seems to be a good inclusion, however, this additional term seems to cover the effect of tCharger * sCharger, as this term is no longer stastically significant. As such we will remove that and rerun it."
   ]
  },
  {
   "cell_type": "code",
   "execution_count": 25,
   "metadata": {},
   "outputs": [
    {
     "data": {
      "text/html": [
       "<table class=\"simpletable\">\n",
       "<caption>OLS Regression Results</caption>\n",
       "<tr>\n",
       "  <th>Dep. Variable:</th>         <td>comb08U</td>     <th>  R-squared:         </th> <td>   0.791</td> \n",
       "</tr>\n",
       "<tr>\n",
       "  <th>Model:</th>                   <td>OLS</td>       <th>  Adj. R-squared:    </th> <td>   0.791</td> \n",
       "</tr>\n",
       "<tr>\n",
       "  <th>Method:</th>             <td>Least Squares</td>  <th>  F-statistic:       </th> <td>   1078.</td> \n",
       "</tr>\n",
       "<tr>\n",
       "  <th>Date:</th>             <td>Mon, 03 May 2021</td> <th>  Prob (F-statistic):</th>  <td>  0.00</td>  \n",
       "</tr>\n",
       "<tr>\n",
       "  <th>Time:</th>                 <td>22:50:30</td>     <th>  Log-Likelihood:    </th> <td> -5100.4</td> \n",
       "</tr>\n",
       "<tr>\n",
       "  <th>No. Observations:</th>      <td>  2283</td>      <th>  AIC:               </th> <td>1.022e+04</td>\n",
       "</tr>\n",
       "<tr>\n",
       "  <th>Df Residuals:</th>          <td>  2274</td>      <th>  BIC:               </th> <td>1.027e+04</td>\n",
       "</tr>\n",
       "<tr>\n",
       "  <th>Df Model:</th>              <td>     8</td>      <th>                     </th>     <td> </td>    \n",
       "</tr>\n",
       "<tr>\n",
       "  <th>Covariance Type:</th>      <td>nonrobust</td>    <th>                     </th>     <td> </td>    \n",
       "</tr>\n",
       "</table>\n",
       "<table class=\"simpletable\">\n",
       "<tr>\n",
       "         <td></td>           <th>coef</th>     <th>std err</th>      <th>t</th>      <th>P>|t|</th>  <th>[0.025</th>    <th>0.975]</th>  \n",
       "</tr>\n",
       "<tr>\n",
       "  <th>Intercept</th>      <td>   44.6599</td> <td>    0.525</td> <td>   84.997</td> <td> 0.000</td> <td>   43.629</td> <td>   45.690</td>\n",
       "</tr>\n",
       "<tr>\n",
       "  <th>displ</th>          <td>   -7.9200</td> <td>    0.209</td> <td>  -37.970</td> <td> 0.000</td> <td>   -8.329</td> <td>   -7.511</td>\n",
       "</tr>\n",
       "<tr>\n",
       "  <th>I(displ ** 2)</th>  <td>    0.5535</td> <td>    0.024</td> <td>   22.638</td> <td> 0.000</td> <td>    0.506</td> <td>    0.601</td>\n",
       "</tr>\n",
       "<tr>\n",
       "  <th>sCharger</th>       <td>   -3.1834</td> <td>    0.717</td> <td>   -4.439</td> <td> 0.000</td> <td>   -4.590</td> <td>   -1.777</td>\n",
       "</tr>\n",
       "<tr>\n",
       "  <th>tCharger</th>       <td>   -3.4593</td> <td>    0.315</td> <td>  -10.991</td> <td> 0.000</td> <td>   -4.077</td> <td>   -2.842</td>\n",
       "</tr>\n",
       "<tr>\n",
       "  <th>drive</th>          <td>   -1.3865</td> <td>    0.166</td> <td>   -8.331</td> <td> 0.000</td> <td>   -1.713</td> <td>   -1.060</td>\n",
       "</tr>\n",
       "<tr>\n",
       "  <th>tCharger:drive</th> <td>    0.4007</td> <td>    0.105</td> <td>    3.826</td> <td> 0.000</td> <td>    0.195</td> <td>    0.606</td>\n",
       "</tr>\n",
       "<tr>\n",
       "  <th>displ:drive</th>    <td>    0.1887</td> <td>    0.040</td> <td>    4.737</td> <td> 0.000</td> <td>    0.111</td> <td>    0.267</td>\n",
       "</tr>\n",
       "<tr>\n",
       "  <th>displ:sCharger</th> <td>    0.3954</td> <td>    0.160</td> <td>    2.470</td> <td> 0.014</td> <td>    0.082</td> <td>    0.709</td>\n",
       "</tr>\n",
       "</table>\n",
       "<table class=\"simpletable\">\n",
       "<tr>\n",
       "  <th>Omnibus:</th>       <td>15.858</td> <th>  Durbin-Watson:     </th> <td>   2.017</td>\n",
       "</tr>\n",
       "<tr>\n",
       "  <th>Prob(Omnibus):</th> <td> 0.000</td> <th>  Jarque-Bera (JB):  </th> <td>  19.866</td>\n",
       "</tr>\n",
       "<tr>\n",
       "  <th>Skew:</th>          <td> 0.107</td> <th>  Prob(JB):          </th> <td>4.85e-05</td>\n",
       "</tr>\n",
       "<tr>\n",
       "  <th>Kurtosis:</th>      <td> 3.404</td> <th>  Cond. No.          </th> <td>    288.</td>\n",
       "</tr>\n",
       "</table><br/><br/>Notes:<br/>[1] Standard Errors assume that the covariance matrix of the errors is correctly specified."
      ],
      "text/plain": [
       "<class 'statsmodels.iolib.summary.Summary'>\n",
       "\"\"\"\n",
       "                            OLS Regression Results                            \n",
       "==============================================================================\n",
       "Dep. Variable:                comb08U   R-squared:                       0.791\n",
       "Model:                            OLS   Adj. R-squared:                  0.791\n",
       "Method:                 Least Squares   F-statistic:                     1078.\n",
       "Date:                Mon, 03 May 2021   Prob (F-statistic):               0.00\n",
       "Time:                        22:50:30   Log-Likelihood:                -5100.4\n",
       "No. Observations:                2283   AIC:                         1.022e+04\n",
       "Df Residuals:                    2274   BIC:                         1.027e+04\n",
       "Df Model:                           8                                         \n",
       "Covariance Type:            nonrobust                                         \n",
       "==================================================================================\n",
       "                     coef    std err          t      P>|t|      [0.025      0.975]\n",
       "----------------------------------------------------------------------------------\n",
       "Intercept         44.6599      0.525     84.997      0.000      43.629      45.690\n",
       "displ             -7.9200      0.209    -37.970      0.000      -8.329      -7.511\n",
       "I(displ ** 2)      0.5535      0.024     22.638      0.000       0.506       0.601\n",
       "sCharger          -3.1834      0.717     -4.439      0.000      -4.590      -1.777\n",
       "tCharger          -3.4593      0.315    -10.991      0.000      -4.077      -2.842\n",
       "drive             -1.3865      0.166     -8.331      0.000      -1.713      -1.060\n",
       "tCharger:drive     0.4007      0.105      3.826      0.000       0.195       0.606\n",
       "displ:drive        0.1887      0.040      4.737      0.000       0.111       0.267\n",
       "displ:sCharger     0.3954      0.160      2.470      0.014       0.082       0.709\n",
       "==============================================================================\n",
       "Omnibus:                       15.858   Durbin-Watson:                   2.017\n",
       "Prob(Omnibus):                  0.000   Jarque-Bera (JB):               19.866\n",
       "Skew:                           0.107   Prob(JB):                     4.85e-05\n",
       "Kurtosis:                       3.404   Cond. No.                         288.\n",
       "==============================================================================\n",
       "\n",
       "Notes:\n",
       "[1] Standard Errors assume that the covariance matrix of the errors is correctly specified.\n",
       "\"\"\""
      ]
     },
     "execution_count": 25,
     "metadata": {},
     "output_type": "execute_result"
    }
   ],
   "source": [
    "#Update model and display summary\n",
    "best_mod = smf.ols(formula='comb08U~displ + I(displ ** 2) + sCharger + tCharger*drive + displ*drive + displ*sCharger',data = datatraining).fit()\n",
    "best_mod.summary()"
   ]
  },
  {
   "cell_type": "markdown",
   "metadata": {},
   "source": [
    "**Analysis:** With this removed, we have settled on a final model that appears to perform well. Next we will run this through a cross-validation approach to ensure it performs well on our test data as well."
   ]
  },
  {
   "cell_type": "markdown",
   "metadata": {},
   "source": [
    "### Cross Validation"
   ]
  },
  {
   "cell_type": "markdown",
   "metadata": {},
   "source": [
    "Our training adjusted R^2 was calculated to be 0.791 for our final model, however, I want to ensure that this is recreated with the test data. Using the testadjr2 fucntion defined during our forward stepwise analysis, here is the result:"
   ]
  },
  {
   "cell_type": "code",
   "execution_count": 28,
   "metadata": {},
   "outputs": [
    {
     "name": "stdout",
     "output_type": "stream",
     "text": [
      "0.7899526130667872\n"
     ]
    }
   ],
   "source": [
    "#Display adj r^2 using the final model on test data\n",
    "print(testadjr2(best_mod,datatest,8))"
   ]
  },
  {
   "cell_type": "markdown",
   "metadata": {},
   "source": [
    "**Analysis:** This appears to be very close (slightly less, as expected) to our training data, so this indicates that our model is likely not overfit to the data, and would perform well in real life."
   ]
  },
  {
   "cell_type": "markdown",
   "metadata": {},
   "source": [
    "### Discussion/Conclusion"
   ]
  },
  {
   "cell_type": "markdown",
   "metadata": {},
   "source": [
    "Overall the adj R^2 increased with every model, as shown below:"
   ]
  },
  {
   "cell_type": "code",
   "execution_count": 40,
   "metadata": {},
   "outputs": [
    {
     "data": {
      "image/png": "[encoded data removed]",
      "text/plain": [
       "<Figure size 432x288 with 1 Axes>"
      ]
     },
     "metadata": {},
     "output_type": "display_data"
    }
   ],
   "source": [
    "#Summary of data\n",
    "x = [1,2,3,4]\n",
    "y = [0.661,0.737,0.746,0.791]\n",
    "\n",
    "#Display data summary\n",
    "plt.plot(x,y);\n",
    "plt.xlabel('Model')\n",
    "plt.ylabel('Adj R^2')\n",
    "plt.xticks(np.arange(1,5), ['1', '2', '3', '4']);"
   ]
  },
  {
   "cell_type": "markdown",
   "metadata": {},
   "source": [
    "(Disclaimer: The above values are hard entered from when I ran this model, and may vary somewhat run to run, as the training and test sets are randomly sampled.)\n",
    "\n",
    "To summarize:\n",
    "\n",
    "* Model 1 was a basic linear regression, chosing just 1 parameter to use\n",
    "* Model 2 extended Model 1 to a multilinear regression, using forward stepwise selection\n",
    "* Model 3 extended Model 2 to include interaction terms between the variables\n",
    "* Model 4 extended Model 3 to add quadratic term to better represent the relationship between the target and displ\n",
    "\n",
    "As expected, increasing the number of variables and increasing the complexity of the model offered better results-- however, I do think my final model accurately reflects the underlying data, and the cross validation of the data acts as good evidence that this is the casee.\n",
    "\n",
    "Although, the resulting model seems like a good fit, there are a few ways in which this model could possibly be improved if further analysis was done.\n",
    "\n",
    "1. Segmentation of the vehicles based on whether they are performance vehicles or not could likely offer better models if each was run separately, as many of the outlying data points are sports cars. Alternatively, removal of these points could potentially assist in creating a better model as well.\n",
    "2. The model could be checked for interaction terms multiplying 3 or more variables togehter, as many of the parameters deal with the engine and are likely correlated in to each other to some degree.\n",
    "3. The parameters for the multilinear regression could be analyzed using a best subset selection method instead of forward stepwise selection, if adequate computing resources are available.\n",
    "\n",
    "These changes would add complexity to the model and would need to be analyzed to ensure this complexity actually results in a better fit, but they could definitely be pursued if greater accuracy is needed.\n",
    "\n",
    "All in all however, my final model only requires 4 parameters of input -- displ, tCharger, sCharger, and drive -- and can explain nearly 80% of the variance from the dataset mean. This seems to be a useful and powerful model for predicting fuel economy in new vehicles, likely allowing both consumers and designers more guidance when choosing and designing new vehicles. As such, my final model accomplishes the goals set for this project."
   ]
  },
  {
   "cell_type": "code",
   "execution_count": null,
   "metadata": {},
   "outputs": [],
   "source": []
  }
 ],
 "metadata": {
  "kernelspec": {
   "display_name": "Python 3",
   "language": "python",
   "name": "python3"
  },
  "language_info": {
   "codemirror_mode": {
    "name": "ipython",
    "version": 3
   },
   "file_extension": ".py",
   "mimetype": "text/x-python",
   "name": "python",
   "nbconvert_exporter": "python",
   "pygments_lexer": "ipython3",
   "version": "3.8.6"
  }
 },
 "nbformat": 4,
 "nbformat_minor": 4
}
